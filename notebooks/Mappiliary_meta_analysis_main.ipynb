{
 "cells": [
  {
   "cell_type": "code",
   "execution_count": 329,
   "metadata": {
    "ExecuteTime": {
     "end_time": "2021-05-13T09:40:20.092112Z",
     "start_time": "2021-05-13T09:40:20.076687Z"
    }
   },
   "outputs": [],
   "source": [
    "    import fiona\n",
    "    import os,os.path\n",
    "    from shapely.geometry import shape,mapping\n",
    "    from shapely.ops import transform\n",
    "    from functools import partial\n",
    "    import pyproj\n",
    "    from fiona.crs import from_epsg\n",
    "    import osmnx as ox\n",
    "    import matplotlib.pyplot as plt\n",
    "    import geopandas as gpd\n",
    "    import glob\n",
    "    import json\n",
    "    import numpy as np\n",
    "    import requests as rq\n",
    "    import collections\n",
    "    import logging\n",
    "    import time\n",
    "    from PIL import Image\n",
    "    from io import BytesIO\n",
    "    import pandas as pd\n",
    "    import dateutil.parser\n",
    "    from tqdm import tqdm\n",
    "    import seaborn as sns\n",
    "    %matplotlib inline"
   ]
  },
  {
   "cell_type": "code",
   "execution_count": 330,
   "metadata": {
    "ExecuteTime": {
     "end_time": "2021-05-13T09:40:27.401791Z",
     "start_time": "2021-05-13T09:40:20.402023Z"
    }
   },
   "outputs": [],
   "source": [
    "map_images = pd.read_csv('scratchpad/Mappilary_image_data_df_V3.csv')\n",
    "map_features = pd.read_csv('scratchpad/Mapillary_20city_urban_features_Final.csv')"
   ]
  },
  {
   "cell_type": "code",
   "execution_count": 331,
   "metadata": {
    "ExecuteTime": {
     "end_time": "2021-05-13T09:40:27.722365Z",
     "start_time": "2021-05-13T09:40:27.403810Z"
    }
   },
   "outputs": [],
   "source": [
    "map_images['year'] = map_images['captureTime'].apply(lambda x: x.split('-')[0].strip())"
   ]
  },
  {
   "cell_type": "code",
   "execution_count": 332,
   "metadata": {
    "ExecuteTime": {
     "end_time": "2021-05-13T09:40:27.735624Z",
     "start_time": "2021-05-13T09:40:27.724531Z"
    }
   },
   "outputs": [
    {
     "data": {
      "text/html": [
       "<div>\n",
       "<style scoped>\n",
       "    .dataframe tbody tr th:only-of-type {\n",
       "        vertical-align: middle;\n",
       "    }\n",
       "\n",
       "    .dataframe tbody tr th {\n",
       "        vertical-align: top;\n",
       "    }\n",
       "\n",
       "    .dataframe thead th {\n",
       "        text-align: right;\n",
       "    }\n",
       "</style>\n",
       "<table border=\"1\" class=\"dataframe\">\n",
       "  <thead>\n",
       "    <tr style=\"text-align: right;\">\n",
       "      <th></th>\n",
       "      <th>Unnamed: 0</th>\n",
       "      <th>Imgkey</th>\n",
       "      <th>long</th>\n",
       "      <th>lat</th>\n",
       "      <th>isPano</th>\n",
       "      <th>captureTime</th>\n",
       "      <th>long_lat_string</th>\n",
       "      <th>city</th>\n",
       "      <th>year</th>\n",
       "    </tr>\n",
       "  </thead>\n",
       "  <tbody>\n",
       "    <tr>\n",
       "      <th>0</th>\n",
       "      <td>0</td>\n",
       "      <td>LvAH_MniU5aoQcqGUSaRfg</td>\n",
       "      <td>24.929696</td>\n",
       "      <td>60.164457</td>\n",
       "      <td>False</td>\n",
       "      <td>2017-05-06T17:08:05.000Z</td>\n",
       "      <td>24.9297_60.1645</td>\n",
       "      <td>Helsinki</td>\n",
       "      <td>2017</td>\n",
       "    </tr>\n",
       "    <tr>\n",
       "      <th>1</th>\n",
       "      <td>1</td>\n",
       "      <td>I-UrvuxcsFzyOixxzKftXA</td>\n",
       "      <td>24.929745</td>\n",
       "      <td>60.164460</td>\n",
       "      <td>False</td>\n",
       "      <td>2016-12-13T08:30:47.671Z</td>\n",
       "      <td>24.9297_60.1645</td>\n",
       "      <td>Helsinki</td>\n",
       "      <td>2016</td>\n",
       "    </tr>\n",
       "    <tr>\n",
       "      <th>2</th>\n",
       "      <td>2</td>\n",
       "      <td>PLLDa2_eRgQMp3kciCYzEA</td>\n",
       "      <td>24.929622</td>\n",
       "      <td>60.164430</td>\n",
       "      <td>False</td>\n",
       "      <td>2017-05-06T17:08:04.000Z</td>\n",
       "      <td>24.9296_60.1644</td>\n",
       "      <td>Helsinki</td>\n",
       "      <td>2017</td>\n",
       "    </tr>\n",
       "    <tr>\n",
       "      <th>3</th>\n",
       "      <td>3</td>\n",
       "      <td>w35tfBtc8gOlIG3TK52Kag</td>\n",
       "      <td>24.929707</td>\n",
       "      <td>60.164380</td>\n",
       "      <td>False</td>\n",
       "      <td>2019-07-11T06:42:15.876Z</td>\n",
       "      <td>24.9297_60.1644</td>\n",
       "      <td>Helsinki</td>\n",
       "      <td>2019</td>\n",
       "    </tr>\n",
       "    <tr>\n",
       "      <th>4</th>\n",
       "      <td>4</td>\n",
       "      <td>3zWRV2aQtC1XES3hSyNtip</td>\n",
       "      <td>24.929800</td>\n",
       "      <td>60.164474</td>\n",
       "      <td>False</td>\n",
       "      <td>2020-08-13T18:23:35.000Z</td>\n",
       "      <td>24.9298_60.1645</td>\n",
       "      <td>Helsinki</td>\n",
       "      <td>2020</td>\n",
       "    </tr>\n",
       "  </tbody>\n",
       "</table>\n",
       "</div>"
      ],
      "text/plain": [
       "   Unnamed: 0                  Imgkey       long        lat  isPano  \\\n",
       "0           0  LvAH_MniU5aoQcqGUSaRfg  24.929696  60.164457   False   \n",
       "1           1  I-UrvuxcsFzyOixxzKftXA  24.929745  60.164460   False   \n",
       "2           2  PLLDa2_eRgQMp3kciCYzEA  24.929622  60.164430   False   \n",
       "3           3  w35tfBtc8gOlIG3TK52Kag  24.929707  60.164380   False   \n",
       "4           4  3zWRV2aQtC1XES3hSyNtip  24.929800  60.164474   False   \n",
       "\n",
       "                captureTime  long_lat_string      city  year  \n",
       "0  2017-05-06T17:08:05.000Z  24.9297_60.1645  Helsinki  2017  \n",
       "1  2016-12-13T08:30:47.671Z  24.9297_60.1645  Helsinki  2016  \n",
       "2  2017-05-06T17:08:04.000Z  24.9296_60.1644  Helsinki  2017  \n",
       "3  2019-07-11T06:42:15.876Z  24.9297_60.1644  Helsinki  2019  \n",
       "4  2020-08-13T18:23:35.000Z  24.9298_60.1645  Helsinki  2020  "
      ]
     },
     "execution_count": 332,
     "metadata": {},
     "output_type": "execute_result"
    }
   ],
   "source": [
    "map_images.head()"
   ]
  },
  {
   "cell_type": "code",
   "execution_count": 333,
   "metadata": {
    "ExecuteTime": {
     "end_time": "2021-05-13T09:40:27.864467Z",
     "start_time": "2021-05-13T09:40:27.737343Z"
    }
   },
   "outputs": [
    {
     "data": {
      "text/html": [
       "<div>\n",
       "<style scoped>\n",
       "    .dataframe tbody tr th:only-of-type {\n",
       "        vertical-align: middle;\n",
       "    }\n",
       "\n",
       "    .dataframe tbody tr th {\n",
       "        vertical-align: top;\n",
       "    }\n",
       "\n",
       "    .dataframe thead th {\n",
       "        text-align: right;\n",
       "    }\n",
       "</style>\n",
       "<table border=\"1\" class=\"dataframe\">\n",
       "  <thead>\n",
       "    <tr style=\"text-align: right;\">\n",
       "      <th></th>\n",
       "      <th>Unnamed: 0</th>\n",
       "      <th>ImgId</th>\n",
       "      <th>ObjEntropy</th>\n",
       "      <th>SceneEntropy</th>\n",
       "      <th>__background__</th>\n",
       "      <th>person</th>\n",
       "      <th>bicycle</th>\n",
       "      <th>car_coco</th>\n",
       "      <th>motorcycle</th>\n",
       "      <th>airplane</th>\n",
       "      <th>...</th>\n",
       "      <th>terrain</th>\n",
       "      <th>sky</th>\n",
       "      <th>person_enet</th>\n",
       "      <th>rider_enet</th>\n",
       "      <th>car_enet</th>\n",
       "      <th>truck_enet</th>\n",
       "      <th>bus_enet</th>\n",
       "      <th>train_enet</th>\n",
       "      <th>motorcycle_enet</th>\n",
       "      <th>bicycle_enet</th>\n",
       "    </tr>\n",
       "  </thead>\n",
       "  <tbody>\n",
       "    <tr>\n",
       "      <th>0</th>\n",
       "      <td>0</td>\n",
       "      <td>pPbGnlvoqb88c9oYn068VH</td>\n",
       "      <td>0.049570</td>\n",
       "      <td>1.893505</td>\n",
       "      <td>0</td>\n",
       "      <td>0</td>\n",
       "      <td>0</td>\n",
       "      <td>1</td>\n",
       "      <td>0</td>\n",
       "      <td>0</td>\n",
       "      <td>...</td>\n",
       "      <td>0.018312</td>\n",
       "      <td>0.011059</td>\n",
       "      <td>0.006845</td>\n",
       "      <td>0.000417</td>\n",
       "      <td>0.162331</td>\n",
       "      <td>0.024518</td>\n",
       "      <td>0.018472</td>\n",
       "      <td>0.009128</td>\n",
       "      <td>0.004870</td>\n",
       "      <td>0.016957</td>\n",
       "    </tr>\n",
       "    <tr>\n",
       "      <th>1</th>\n",
       "      <td>1</td>\n",
       "      <td>uDQnOWWRqR0e3e9Gdca5lw</td>\n",
       "      <td>0.521312</td>\n",
       "      <td>1.799529</td>\n",
       "      <td>0</td>\n",
       "      <td>2</td>\n",
       "      <td>5</td>\n",
       "      <td>13</td>\n",
       "      <td>0</td>\n",
       "      <td>0</td>\n",
       "      <td>...</td>\n",
       "      <td>0.004219</td>\n",
       "      <td>0.005264</td>\n",
       "      <td>0.124756</td>\n",
       "      <td>0.008413</td>\n",
       "      <td>0.058877</td>\n",
       "      <td>0.047642</td>\n",
       "      <td>0.000078</td>\n",
       "      <td>0.001445</td>\n",
       "      <td>0.004077</td>\n",
       "      <td>0.063989</td>\n",
       "    </tr>\n",
       "  </tbody>\n",
       "</table>\n",
       "<p>2 rows × 105 columns</p>\n",
       "</div>"
      ],
      "text/plain": [
       "   Unnamed: 0                   ImgId  ObjEntropy  SceneEntropy  \\\n",
       "0           0  pPbGnlvoqb88c9oYn068VH    0.049570      1.893505   \n",
       "1           1  uDQnOWWRqR0e3e9Gdca5lw    0.521312      1.799529   \n",
       "\n",
       "   __background__  person  bicycle  car_coco  motorcycle  airplane  ...  \\\n",
       "0               0       0        0         1           0         0  ...   \n",
       "1               0       2        5        13           0         0  ...   \n",
       "\n",
       "    terrain       sky  person_enet  rider_enet  car_enet  truck_enet  \\\n",
       "0  0.018312  0.011059     0.006845    0.000417  0.162331    0.024518   \n",
       "1  0.004219  0.005264     0.124756    0.008413  0.058877    0.047642   \n",
       "\n",
       "   bus_enet  train_enet  motorcycle_enet  bicycle_enet  \n",
       "0  0.018472    0.009128         0.004870      0.016957  \n",
       "1  0.000078    0.001445         0.004077      0.063989  \n",
       "\n",
       "[2 rows x 105 columns]"
      ]
     },
     "execution_count": 333,
     "metadata": {},
     "output_type": "execute_result"
    }
   ],
   "source": [
    "map_features.head(n=2)"
   ]
  },
  {
   "cell_type": "code",
   "execution_count": 334,
   "metadata": {
    "ExecuteTime": {
     "end_time": "2021-05-13T09:40:28.263622Z",
     "start_time": "2021-05-13T09:40:27.867178Z"
    }
   },
   "outputs": [],
   "source": [
    "city_images = []\n",
    "city_name = []\n",
    "city_years = {}\n",
    "for name , group in map_images.groupby('city'):\n",
    "    city_images.append(len(set(group['long_lat_string'])))\n",
    "    city_name.append(name)"
   ]
  },
  {
   "cell_type": "code",
   "execution_count": 335,
   "metadata": {
    "ExecuteTime": {
     "end_time": "2021-05-13T09:40:28.411121Z",
     "start_time": "2021-05-13T09:40:28.265315Z"
    }
   },
   "outputs": [],
   "source": [
    "year_images = []\n",
    "year  = []\n",
    "for name , group in map_images.groupby('year'):\n",
    "    year_images.append(len(group))\n",
    "    year.append(name)"
   ]
  },
  {
   "cell_type": "code",
   "execution_count": 336,
   "metadata": {
    "ExecuteTime": {
     "end_time": "2021-05-13T09:40:28.694484Z",
     "start_time": "2021-05-13T09:40:28.412715Z"
    }
   },
   "outputs": [
    {
     "data": {
      "image/png": "[encoded data removed]",
      "text/plain": [
       "<Figure size 1152x864 with 1 Axes>"
      ]
     },
     "metadata": {
      "needs_background": "light"
     },
     "output_type": "display_data"
    }
   ],
   "source": [
    "x = np.arange(len(year))\n",
    "fig, ax = plt.subplots()\n",
    "fig.set_size_inches(16,12)\n",
    "plt.grid()\n",
    "plt.bar(x, year_images)\n",
    "plt.title('Distribution of image captures by year',fontsize=25)\n",
    "plt.yticks(fontsize=20)\n",
    "plt.ylabel('# of images',fontsize=25)\n",
    "plt.xticks(x, year ,rotation=90,fontsize=20)\n",
    "plt.xlabel('Year of capture',fontsize=25)\n",
    "plt.show()"
   ]
  },
  {
   "cell_type": "code",
   "execution_count": 337,
   "metadata": {
    "ExecuteTime": {
     "end_time": "2021-05-13T09:40:28.965965Z",
     "start_time": "2021-05-13T09:40:28.697041Z"
    }
   },
   "outputs": [
    {
     "data": {
      "image/png": "[encoded data removed]",
      "text/plain": [
       "<Figure size 1152x864 with 1 Axes>"
      ]
     },
     "metadata": {
      "needs_background": "light"
     },
     "output_type": "display_data"
    }
   ],
   "source": [
    "x = np.arange(len(city_name))\n",
    "fig, ax = plt.subplots()\n",
    "fig.set_size_inches(16,12)\n",
    "plt.grid()\n",
    "plt.bar(x, city_images)\n",
    "plt.title('Mappilary image count across cities',fontsize=25)\n",
    "plt.yticks(fontsize=20)\n",
    "plt.ylabel('# of unique locations',fontsize=25)\n",
    "plt.xticks(x, city_name ,rotation=90,fontsize=20)\n",
    "plt.xlabel('City Name',fontsize=25)\n",
    "plt.show()"
   ]
  },
  {
   "cell_type": "code",
   "execution_count": 338,
   "metadata": {
    "ExecuteTime": {
     "end_time": "2021-05-13T09:40:31.048037Z",
     "start_time": "2021-05-13T09:40:28.967746Z"
    }
   },
   "outputs": [],
   "source": [
    "total_mappilary_df = pd.merge(map_images,map_features,left_on='Imgkey',right_on='ImgId')"
   ]
  },
  {
   "cell_type": "code",
   "execution_count": 339,
   "metadata": {
    "ExecuteTime": {
     "end_time": "2021-05-13T09:40:31.054440Z",
     "start_time": "2021-05-13T09:40:31.049695Z"
    }
   },
   "outputs": [],
   "source": [
    "def Entropy(array):\n",
    "    classProb = [k/(sum(array)+1) for k in array]\n",
    "    entropy = - sum([classProb[i]*np.log(classProb[i]) for i in range(len(classProb)) if classProb[i] > 0 ])\n",
    "    return entropy\n",
    "\n",
    "def Entropy_new(array):\n",
    "    entropy = - sum([array[i]*np.log(array[i]) for i in range(len(array)) if array[i] > 0 ])\n",
    "    return entropy"
   ]
  },
  {
   "cell_type": "code",
   "execution_count": 340,
   "metadata": {
    "ExecuteTime": {
     "end_time": "2021-05-13T09:40:31.198179Z",
     "start_time": "2021-05-13T09:40:31.056214Z"
    }
   },
   "outputs": [
    {
     "data": {
      "text/plain": [
       "798244"
      ]
     },
     "execution_count": 340,
     "metadata": {},
     "output_type": "execute_result"
    }
   ],
   "source": [
    "len(total_mappilary_df)"
   ]
  },
  {
   "cell_type": "code",
   "execution_count": 341,
   "metadata": {
    "ExecuteTime": {
     "end_time": "2021-05-13T09:40:35.647213Z",
     "start_time": "2021-05-13T09:40:31.199697Z"
    }
   },
   "outputs": [],
   "source": [
    "COCO_INSTANCE_CATEGORY_NAMES = [\n",
    "    '__background__', 'person', 'bicycle', 'car_coco', 'motorcycle', 'airplane', 'bus',\n",
    "    'train', 'truck', 'boat', 'traffic light', 'fire hydrant',  'stop sign',\n",
    "    'parking meter', 'bench', 'bird', 'cat', 'dog', 'horse', 'sheep', 'cow',\n",
    "    'elephant', 'bear', 'zebra', 'giraffe', 'backpack', 'umbrella',\n",
    "    'handbag', 'tie', 'suitcase', 'frisbee', 'skis', 'snowboard', 'sports ball',\n",
    "    'kite', 'baseball bat', 'baseball glove', 'skateboard', 'surfboard', 'tennis racket',\n",
    "    'bottle', 'wine glass', 'cup', 'fork', 'knife', 'spoon', 'bowl',\n",
    "    'banana', 'apple', 'sandwich', 'orange', 'broccoli', 'carrot', 'hot dog', 'pizza',\n",
    "    'donut', 'cake', 'chair', 'couch', 'potted plant', 'bed', 'dining table',\n",
    "    'toilet', 'tv', 'laptop', 'mouse', 'remote', 'keyboard', 'cell phone',\n",
    "    'microwave', 'oven', 'toaster', 'sink', 'refrigerator',  'book',\n",
    "    'clock', 'vase', 'scissors', 'teddy bear', 'hair drier', 'toothbrush'\n",
    "]\n",
    "\n",
    "countDict = {}\n",
    "for k in COCO_INSTANCE_CATEGORY_NAMES:\n",
    "    countDict[k] = sum(total_mappilary_df[k])"
   ]
  },
  {
   "cell_type": "code",
   "execution_count": 342,
   "metadata": {
    "ExecuteTime": {
     "end_time": "2021-05-13T09:40:35.654188Z",
     "start_time": "2021-05-13T09:40:35.649223Z"
    }
   },
   "outputs": [
    {
     "data": {
      "text/plain": [
       "{'__background__': 0,\n",
       " 'sandwich': 2,\n",
       " 'hot dog': 3,\n",
       " 'toaster': 3,\n",
       " 'pizza': 21,\n",
       " 'hair drier': 24,\n",
       " 'zebra': 31,\n",
       " 'carrot': 36,\n",
       " 'orange': 38,\n",
       " 'apple': 68,\n",
       " 'giraffe': 69,\n",
       " 'banana': 79,\n",
       " 'bear': 85,\n",
       " 'donut': 85,\n",
       " 'scissors': 105,\n",
       " 'fork': 129,\n",
       " 'cake': 138,\n",
       " 'spoon': 141,\n",
       " 'broccoli': 168,\n",
       " 'toothbrush': 257,\n",
       " 'baseball glove': 263,\n",
       " 'toilet': 263,\n",
       " 'sheep': 264,\n",
       " 'snowboard': 284,\n",
       " 'oven': 290,\n",
       " 'wine glass': 292,\n",
       " 'microwave': 311,\n",
       " 'baseball bat': 312,\n",
       " 'teddy bear': 349,\n",
       " 'cat': 411,\n",
       " 'knife': 422,\n",
       " 'bed': 466,\n",
       " 'couch': 487,\n",
       " 'tennis racket': 495,\n",
       " 'tie': 499,\n",
       " 'skis': 507,\n",
       " 'keyboard': 511,\n",
       " 'elephant': 662,\n",
       " 'remote': 667,\n",
       " 'laptop': 681,\n",
       " 'bowl': 958,\n",
       " 'frisbee': 982,\n",
       " 'surfboard': 1019,\n",
       " 'sink': 1019,\n",
       " 'cow': 1618,\n",
       " 'cell phone': 1733,\n",
       " 'vase': 1851,\n",
       " 'airplane': 2060,\n",
       " 'refrigerator': 2072,\n",
       " 'kite': 2127,\n",
       " 'dog': 2836,\n",
       " 'cup': 3449,\n",
       " 'dining table': 3481,\n",
       " 'mouse': 3619,\n",
       " 'parking meter': 4230,\n",
       " 'sports ball': 4738,\n",
       " 'skateboard': 4955,\n",
       " 'bird': 5577,\n",
       " 'suitcase': 5886,\n",
       " 'book': 6484,\n",
       " 'bottle': 7482,\n",
       " 'fire hydrant': 8213,\n",
       " 'tv': 9479,\n",
       " 'horse': 10078,\n",
       " 'clock': 14163,\n",
       " 'umbrella': 17172,\n",
       " 'train': 18860,\n",
       " 'stop sign': 23972,\n",
       " 'boat': 29610,\n",
       " 'chair': 30329,\n",
       " 'motorcycle': 36058,\n",
       " 'backpack': 40621,\n",
       " 'bench': 44249,\n",
       " 'potted plant': 48567,\n",
       " 'handbag': 55728,\n",
       " 'bus': 77939,\n",
       " 'truck': 195135,\n",
       " 'bicycle': 214533,\n",
       " 'traffic light': 251450,\n",
       " 'person': 1525051,\n",
       " 'car_coco': 3081619}"
      ]
     },
     "execution_count": 342,
     "metadata": {},
     "output_type": "execute_result"
    }
   ],
   "source": [
    "dict(sorted(countDict.items(), key=lambda item: item[1]))"
   ]
  },
  {
   "cell_type": "code",
   "execution_count": 343,
   "metadata": {
    "ExecuteTime": {
     "end_time": "2021-05-13T09:40:35.762251Z",
     "start_time": "2021-05-13T09:40:35.655849Z"
    }
   },
   "outputs": [],
   "source": [
    "segnetDict = {'Car_Infrastructure_enet' : ['road', 'pole_enet', 'traffic_light', 'traffic_sign', 'car_enet', 'truck_enet', 'bus_enet',  'motorcycle_enet'],\n",
    "              'Pedestrians_enet': ['sidewalk', 'person_enet', 'bicycle_enet'],\n",
    "              'Architecture_enet' : ['building', 'wall', 'fence_enet'],\n",
    "              'Nature_enet': ['vegetation', 'terrain', 'sky']\n",
    "             }\n",
    "\n",
    "\n",
    "\n",
    "cocoDict = {'Car_Infrastructure_coco' : ['stop sign','boat','motorcycle','bus','truck','traffic light','car_coco'],\n",
    "'Pedestrians_coco': ['umbrella','backpack','handbag','bicycle','person'],\n",
    "# 'Architecture_coco' : ['clock','bench'],\n",
    "# 'Nature_coco': ['horse','potted plant']\n",
    "           }\n"
   ]
  },
  {
   "cell_type": "code",
   "execution_count": 344,
   "metadata": {
    "ExecuteTime": {
     "end_time": "2021-05-13T09:40:36.939488Z",
     "start_time": "2021-05-13T09:40:35.764750Z"
    }
   },
   "outputs": [],
   "source": [
    "placesNet_df = pd.read_csv('../Data/Mappilary_city_placesNet.csv')"
   ]
  },
  {
   "cell_type": "code",
   "execution_count": 345,
   "metadata": {
    "ExecuteTime": {
     "end_time": "2021-05-13T09:40:36.953491Z",
     "start_time": "2021-05-13T09:40:36.941028Z"
    }
   },
   "outputs": [],
   "source": [
    "placesNet_df['Walkable'] = placesNet_df['Walkable'] - 0.0001\n",
    "placesNet_df['Landmark'] = placesNet_df['Landmark'] - 0.0002\n",
    "placesNet_df['Architecture'] = placesNet_df['Architecture'] + 0.0001\n",
    "placesNet_df['Natural'] = placesNet_df['Natural'] + 0.0002"
   ]
  },
  {
   "cell_type": "code",
   "execution_count": 346,
   "metadata": {
    "ExecuteTime": {
     "end_time": "2021-05-13T09:45:22.693052Z",
     "start_time": "2021-05-13T09:40:36.955089Z"
    }
   },
   "outputs": [],
   "source": [
    "placesNet_max =  placesNet_df[['Walkable' , 'Landmark', 'Architecture', 'Natural']].apply(lambda x: x == x.max(), axis=1).astype(int) "
   ]
  },
  {
   "cell_type": "code",
   "execution_count": 347,
   "metadata": {
    "ExecuteTime": {
     "end_time": "2021-05-13T09:45:22.702569Z",
     "start_time": "2021-05-13T09:45:22.694800Z"
    }
   },
   "outputs": [
    {
     "data": {
      "text/html": [
       "<div>\n",
       "<style scoped>\n",
       "    .dataframe tbody tr th:only-of-type {\n",
       "        vertical-align: middle;\n",
       "    }\n",
       "\n",
       "    .dataframe tbody tr th {\n",
       "        vertical-align: top;\n",
       "    }\n",
       "\n",
       "    .dataframe thead th {\n",
       "        text-align: right;\n",
       "    }\n",
       "</style>\n",
       "<table border=\"1\" class=\"dataframe\">\n",
       "  <thead>\n",
       "    <tr style=\"text-align: right;\">\n",
       "      <th></th>\n",
       "      <th>Walkable</th>\n",
       "      <th>Landmark</th>\n",
       "      <th>Architecture</th>\n",
       "      <th>Natural</th>\n",
       "    </tr>\n",
       "  </thead>\n",
       "  <tbody>\n",
       "    <tr>\n",
       "      <th>0</th>\n",
       "      <td>0</td>\n",
       "      <td>1</td>\n",
       "      <td>0</td>\n",
       "      <td>0</td>\n",
       "    </tr>\n",
       "    <tr>\n",
       "      <th>1</th>\n",
       "      <td>0</td>\n",
       "      <td>0</td>\n",
       "      <td>1</td>\n",
       "      <td>0</td>\n",
       "    </tr>\n",
       "    <tr>\n",
       "      <th>2</th>\n",
       "      <td>1</td>\n",
       "      <td>0</td>\n",
       "      <td>0</td>\n",
       "      <td>0</td>\n",
       "    </tr>\n",
       "    <tr>\n",
       "      <th>3</th>\n",
       "      <td>0</td>\n",
       "      <td>0</td>\n",
       "      <td>1</td>\n",
       "      <td>0</td>\n",
       "    </tr>\n",
       "    <tr>\n",
       "      <th>4</th>\n",
       "      <td>0</td>\n",
       "      <td>0</td>\n",
       "      <td>1</td>\n",
       "      <td>0</td>\n",
       "    </tr>\n",
       "  </tbody>\n",
       "</table>\n",
       "</div>"
      ],
      "text/plain": [
       "   Walkable  Landmark  Architecture  Natural\n",
       "0         0         1             0        0\n",
       "1         0         0             1        0\n",
       "2         1         0             0        0\n",
       "3         0         0             1        0\n",
       "4         0         0             1        0"
      ]
     },
     "execution_count": 347,
     "metadata": {},
     "output_type": "execute_result"
    }
   ],
   "source": [
    "placesNet_max.head(n=5)"
   ]
  },
  {
   "cell_type": "code",
   "execution_count": 348,
   "metadata": {
    "ExecuteTime": {
     "end_time": "2021-05-13T09:45:23.033928Z",
     "start_time": "2021-05-13T09:45:22.705337Z"
    }
   },
   "outputs": [
    {
     "data": {
      "text/plain": [
       "Walkable        325767\n",
       "Landmark         65957\n",
       "Architecture    343501\n",
       "Natural          63019\n",
       "dtype: int64"
      ]
     },
     "execution_count": 348,
     "metadata": {},
     "output_type": "execute_result"
    }
   ],
   "source": [
    "placesNet_max.sum(axis=0)"
   ]
  },
  {
   "cell_type": "code",
   "execution_count": 349,
   "metadata": {
    "ExecuteTime": {
     "end_time": "2021-05-13T09:45:23.131149Z",
     "start_time": "2021-05-13T09:45:23.036476Z"
    }
   },
   "outputs": [],
   "source": [
    "placesNet_max.rename(columns={'Walkable':'W', 'Landmark':'L','Architecture':'A','Natural':'N'},inplace=True)"
   ]
  },
  {
   "cell_type": "code",
   "execution_count": 350,
   "metadata": {
    "ExecuteTime": {
     "end_time": "2021-05-13T09:45:23.295108Z",
     "start_time": "2021-05-13T09:45:23.133730Z"
    }
   },
   "outputs": [],
   "source": [
    "placesNet_df = pd.merge(placesNet_df, placesNet_max,left_index=True, right_index=True)"
   ]
  },
  {
   "cell_type": "code",
   "execution_count": 351,
   "metadata": {
    "ExecuteTime": {
     "end_time": "2021-05-13T09:45:23.342011Z",
     "start_time": "2021-05-13T09:45:23.297467Z"
    }
   },
   "outputs": [],
   "source": [
    "# placesNet_df['places_entropy'] = placesNet_df.apply(lambda x: Entropy_new([x[col] for col in ['Walkable' , 'Landmark', 'Architecture', 'Natural']]) , axis = 1 )"
   ]
  },
  {
   "cell_type": "code",
   "execution_count": 352,
   "metadata": {
    "ExecuteTime": {
     "end_time": "2021-05-13T09:45:23.562192Z",
     "start_time": "2021-05-13T09:45:23.347766Z"
    }
   },
   "outputs": [
    {
     "data": {
      "text/html": [
       "<div>\n",
       "<style scoped>\n",
       "    .dataframe tbody tr th:only-of-type {\n",
       "        vertical-align: middle;\n",
       "    }\n",
       "\n",
       "    .dataframe tbody tr th {\n",
       "        vertical-align: top;\n",
       "    }\n",
       "\n",
       "    .dataframe thead th {\n",
       "        text-align: right;\n",
       "    }\n",
       "</style>\n",
       "<table border=\"1\" class=\"dataframe\">\n",
       "  <thead>\n",
       "    <tr style=\"text-align: right;\">\n",
       "      <th></th>\n",
       "      <th>Architecture</th>\n",
       "      <th>Landmark</th>\n",
       "      <th>Natural</th>\n",
       "      <th>Walkable</th>\n",
       "    </tr>\n",
       "  </thead>\n",
       "  <tbody>\n",
       "    <tr>\n",
       "      <th>Architecture</th>\n",
       "      <td>1.000000</td>\n",
       "      <td>-0.238676</td>\n",
       "      <td>-0.186304</td>\n",
       "      <td>-0.475084</td>\n",
       "    </tr>\n",
       "    <tr>\n",
       "      <th>Landmark</th>\n",
       "      <td>-0.238676</td>\n",
       "      <td>1.000000</td>\n",
       "      <td>-0.006178</td>\n",
       "      <td>-0.404647</td>\n",
       "    </tr>\n",
       "    <tr>\n",
       "      <th>Natural</th>\n",
       "      <td>-0.186304</td>\n",
       "      <td>-0.006178</td>\n",
       "      <td>1.000000</td>\n",
       "      <td>-0.317282</td>\n",
       "    </tr>\n",
       "    <tr>\n",
       "      <th>Walkable</th>\n",
       "      <td>-0.475084</td>\n",
       "      <td>-0.404647</td>\n",
       "      <td>-0.317282</td>\n",
       "      <td>1.000000</td>\n",
       "    </tr>\n",
       "  </tbody>\n",
       "</table>\n",
       "</div>"
      ],
      "text/plain": [
       "              Architecture  Landmark   Natural  Walkable\n",
       "Architecture      1.000000 -0.238676 -0.186304 -0.475084\n",
       "Landmark         -0.238676  1.000000 -0.006178 -0.404647\n",
       "Natural          -0.186304 -0.006178  1.000000 -0.317282\n",
       "Walkable         -0.475084 -0.404647 -0.317282  1.000000"
      ]
     },
     "execution_count": 352,
     "metadata": {},
     "output_type": "execute_result"
    }
   ],
   "source": [
    "placesNet_df[['Architecture','Landmark','Natural','Walkable']].corr()"
   ]
  },
  {
   "cell_type": "code",
   "execution_count": 353,
   "metadata": {
    "ExecuteTime": {
     "end_time": "2021-05-13T09:45:23.641487Z",
     "start_time": "2021-05-13T09:45:23.564728Z"
    }
   },
   "outputs": [
    {
     "data": {
      "text/html": [
       "<div>\n",
       "<style scoped>\n",
       "    .dataframe tbody tr th:only-of-type {\n",
       "        vertical-align: middle;\n",
       "    }\n",
       "\n",
       "    .dataframe tbody tr th {\n",
       "        vertical-align: top;\n",
       "    }\n",
       "\n",
       "    .dataframe thead th {\n",
       "        text-align: right;\n",
       "    }\n",
       "</style>\n",
       "<table border=\"1\" class=\"dataframe\">\n",
       "  <thead>\n",
       "    <tr style=\"text-align: right;\">\n",
       "      <th></th>\n",
       "      <th>Unnamed: 0</th>\n",
       "      <th>Architecture</th>\n",
       "      <th>Landmark</th>\n",
       "      <th>N/A</th>\n",
       "      <th>Natural</th>\n",
       "      <th>Unnamed: 0.1</th>\n",
       "      <th>Walkable</th>\n",
       "      <th>imgKey</th>\n",
       "      <th>placesNet_labels</th>\n",
       "      <th>W</th>\n",
       "      <th>L</th>\n",
       "      <th>A</th>\n",
       "      <th>N</th>\n",
       "    </tr>\n",
       "  </thead>\n",
       "  <tbody>\n",
       "    <tr>\n",
       "      <th>0</th>\n",
       "      <td>0</td>\n",
       "      <td>0.0001</td>\n",
       "      <td>0.5998</td>\n",
       "      <td>0.0</td>\n",
       "      <td>0.0002</td>\n",
       "      <td>0.0</td>\n",
       "      <td>0.3999</td>\n",
       "      <td>pPbGnlvoqb88c9oYn068VH</td>\n",
       "      <td>['plaza', 'embassy', 'street', 'subway_station...</td>\n",
       "      <td>0</td>\n",
       "      <td>1</td>\n",
       "      <td>0</td>\n",
       "      <td>0</td>\n",
       "    </tr>\n",
       "    <tr>\n",
       "      <th>1</th>\n",
       "      <td>1</td>\n",
       "      <td>0.6001</td>\n",
       "      <td>0.1998</td>\n",
       "      <td>0.0</td>\n",
       "      <td>0.0002</td>\n",
       "      <td>1.0</td>\n",
       "      <td>0.1999</td>\n",
       "      <td>uDQnOWWRqR0e3e9Gdca5lw</td>\n",
       "      <td>['residential_neighborhood', 'street', 'apartm...</td>\n",
       "      <td>0</td>\n",
       "      <td>0</td>\n",
       "      <td>1</td>\n",
       "      <td>0</td>\n",
       "    </tr>\n",
       "    <tr>\n",
       "      <th>2</th>\n",
       "      <td>2</td>\n",
       "      <td>0.2001</td>\n",
       "      <td>-0.0002</td>\n",
       "      <td>0.2</td>\n",
       "      <td>0.0002</td>\n",
       "      <td>2.0</td>\n",
       "      <td>0.5999</td>\n",
       "      <td>i9CFCOnZErlyETxBfVNgAA</td>\n",
       "      <td>['street', 'alley', 'downtown', 'residential_n...</td>\n",
       "      <td>1</td>\n",
       "      <td>0</td>\n",
       "      <td>0</td>\n",
       "      <td>0</td>\n",
       "    </tr>\n",
       "    <tr>\n",
       "      <th>3</th>\n",
       "      <td>3</td>\n",
       "      <td>0.4001</td>\n",
       "      <td>-0.0002</td>\n",
       "      <td>0.2</td>\n",
       "      <td>0.0002</td>\n",
       "      <td>3.0</td>\n",
       "      <td>0.3999</td>\n",
       "      <td>JI9N8XEtaV7G66K0PFVo_g</td>\n",
       "      <td>['downtown', 'street', 'crosswalk', 'parking_g...</td>\n",
       "      <td>0</td>\n",
       "      <td>0</td>\n",
       "      <td>1</td>\n",
       "      <td>0</td>\n",
       "    </tr>\n",
       "    <tr>\n",
       "      <th>4</th>\n",
       "      <td>4</td>\n",
       "      <td>0.4001</td>\n",
       "      <td>0.1998</td>\n",
       "      <td>0.0</td>\n",
       "      <td>0.0002</td>\n",
       "      <td>4.0</td>\n",
       "      <td>0.3999</td>\n",
       "      <td>y-0mK7IyYGb-1rW25PikrQ</td>\n",
       "      <td>['crosswalk', 'highway', 'residential_neighbor...</td>\n",
       "      <td>0</td>\n",
       "      <td>0</td>\n",
       "      <td>1</td>\n",
       "      <td>0</td>\n",
       "    </tr>\n",
       "  </tbody>\n",
       "</table>\n",
       "</div>"
      ],
      "text/plain": [
       "   Unnamed: 0  Architecture  Landmark  N/A  Natural  Unnamed: 0.1  Walkable  \\\n",
       "0           0        0.0001    0.5998  0.0   0.0002           0.0    0.3999   \n",
       "1           1        0.6001    0.1998  0.0   0.0002           1.0    0.1999   \n",
       "2           2        0.2001   -0.0002  0.2   0.0002           2.0    0.5999   \n",
       "3           3        0.4001   -0.0002  0.2   0.0002           3.0    0.3999   \n",
       "4           4        0.4001    0.1998  0.0   0.0002           4.0    0.3999   \n",
       "\n",
       "                   imgKey                                   placesNet_labels  \\\n",
       "0  pPbGnlvoqb88c9oYn068VH  ['plaza', 'embassy', 'street', 'subway_station...   \n",
       "1  uDQnOWWRqR0e3e9Gdca5lw  ['residential_neighborhood', 'street', 'apartm...   \n",
       "2  i9CFCOnZErlyETxBfVNgAA  ['street', 'alley', 'downtown', 'residential_n...   \n",
       "3  JI9N8XEtaV7G66K0PFVo_g  ['downtown', 'street', 'crosswalk', 'parking_g...   \n",
       "4  y-0mK7IyYGb-1rW25PikrQ  ['crosswalk', 'highway', 'residential_neighbor...   \n",
       "\n",
       "   W  L  A  N  \n",
       "0  0  1  0  0  \n",
       "1  0  0  1  0  \n",
       "2  1  0  0  0  \n",
       "3  0  0  1  0  \n",
       "4  0  0  1  0  "
      ]
     },
     "execution_count": 353,
     "metadata": {},
     "output_type": "execute_result"
    }
   ],
   "source": [
    "placesNet_df.head()"
   ]
  },
  {
   "cell_type": "code",
   "execution_count": 354,
   "metadata": {
    "ExecuteTime": {
     "end_time": "2021-05-13T09:45:24.109385Z",
     "start_time": "2021-05-13T09:45:23.643813Z"
    }
   },
   "outputs": [
    {
     "data": {
      "text/plain": [
       "<matplotlib.axes._subplots.AxesSubplot at 0x7f3925b200b8>"
      ]
     },
     "execution_count": 354,
     "metadata": {},
     "output_type": "execute_result"
    },
    {
     "data": {
      "image/png": "[encoded data removed]",
      "text/plain": [
       "<Figure size 432x288 with 1 Axes>"
      ]
     },
     "metadata": {
      "needs_background": "light"
     },
     "output_type": "display_data"
    }
   ],
   "source": [
    "sns.distplot(placesNet_df['Architecture'])"
   ]
  },
  {
   "cell_type": "code",
   "execution_count": 355,
   "metadata": {
    "ExecuteTime": {
     "end_time": "2021-05-13T09:45:24.401972Z",
     "start_time": "2021-05-13T09:45:24.110683Z"
    }
   },
   "outputs": [
    {
     "data": {
      "text/plain": [
       "<matplotlib.axes._subplots.AxesSubplot at 0x7f3917d7ccf8>"
      ]
     },
     "execution_count": 355,
     "metadata": {},
     "output_type": "execute_result"
    },
    {
     "data": {
      "image/png": "[encoded data removed]",
      "text/plain": [
       "<Figure size 432x288 with 1 Axes>"
      ]
     },
     "metadata": {
      "needs_background": "light"
     },
     "output_type": "display_data"
    }
   ],
   "source": [
    "sns.distplot(placesNet_df['Landmark'])"
   ]
  },
  {
   "cell_type": "code",
   "execution_count": 356,
   "metadata": {
    "ExecuteTime": {
     "end_time": "2021-05-13T09:45:24.682867Z",
     "start_time": "2021-05-13T09:45:24.403484Z"
    }
   },
   "outputs": [
    {
     "data": {
      "text/plain": [
       "<matplotlib.axes._subplots.AxesSubplot at 0x7f391ff7af60>"
      ]
     },
     "execution_count": 356,
     "metadata": {},
     "output_type": "execute_result"
    },
    {
     "data": {
      "image/png": "[encoded data removed]",
      "text/plain": [
       "<Figure size 432x288 with 1 Axes>"
      ]
     },
     "metadata": {
      "needs_background": "light"
     },
     "output_type": "display_data"
    }
   ],
   "source": [
    "sns.distplot(placesNet_df['Natural'])"
   ]
  },
  {
   "cell_type": "code",
   "execution_count": 357,
   "metadata": {
    "ExecuteTime": {
     "end_time": "2021-05-13T09:45:24.993363Z",
     "start_time": "2021-05-13T09:45:24.684368Z"
    }
   },
   "outputs": [
    {
     "data": {
      "text/plain": [
       "<matplotlib.axes._subplots.AxesSubplot at 0x7f39926a6b00>"
      ]
     },
     "execution_count": 357,
     "metadata": {},
     "output_type": "execute_result"
    },
    {
     "data": {
      "image/png": "[encoded data removed]",
      "text/plain": [
       "<Figure size 432x288 with 1 Axes>"
      ]
     },
     "metadata": {
      "needs_background": "light"
     },
     "output_type": "display_data"
    }
   ],
   "source": [
    "sns.distplot(placesNet_df['Walkable'])"
   ]
  },
  {
   "cell_type": "code",
   "execution_count": 358,
   "metadata": {
    "ExecuteTime": {
     "end_time": "2021-05-13T09:45:25.007542Z",
     "start_time": "2021-05-13T09:45:24.994827Z"
    }
   },
   "outputs": [
    {
     "data": {
      "text/html": [
       "<div>\n",
       "<style scoped>\n",
       "    .dataframe tbody tr th:only-of-type {\n",
       "        vertical-align: middle;\n",
       "    }\n",
       "\n",
       "    .dataframe tbody tr th {\n",
       "        vertical-align: top;\n",
       "    }\n",
       "\n",
       "    .dataframe thead th {\n",
       "        text-align: right;\n",
       "    }\n",
       "</style>\n",
       "<table border=\"1\" class=\"dataframe\">\n",
       "  <thead>\n",
       "    <tr style=\"text-align: right;\">\n",
       "      <th></th>\n",
       "      <th>Unnamed: 0</th>\n",
       "      <th>Architecture</th>\n",
       "      <th>Landmark</th>\n",
       "      <th>N/A</th>\n",
       "      <th>Natural</th>\n",
       "      <th>Unnamed: 0.1</th>\n",
       "      <th>Walkable</th>\n",
       "      <th>imgKey</th>\n",
       "      <th>placesNet_labels</th>\n",
       "      <th>W</th>\n",
       "      <th>L</th>\n",
       "      <th>A</th>\n",
       "      <th>N</th>\n",
       "    </tr>\n",
       "  </thead>\n",
       "  <tbody>\n",
       "    <tr>\n",
       "      <th>0</th>\n",
       "      <td>0</td>\n",
       "      <td>0.0001</td>\n",
       "      <td>0.5998</td>\n",
       "      <td>0.0</td>\n",
       "      <td>0.0002</td>\n",
       "      <td>0.0</td>\n",
       "      <td>0.3999</td>\n",
       "      <td>pPbGnlvoqb88c9oYn068VH</td>\n",
       "      <td>['plaza', 'embassy', 'street', 'subway_station...</td>\n",
       "      <td>0</td>\n",
       "      <td>1</td>\n",
       "      <td>0</td>\n",
       "      <td>0</td>\n",
       "    </tr>\n",
       "    <tr>\n",
       "      <th>1</th>\n",
       "      <td>1</td>\n",
       "      <td>0.6001</td>\n",
       "      <td>0.1998</td>\n",
       "      <td>0.0</td>\n",
       "      <td>0.0002</td>\n",
       "      <td>1.0</td>\n",
       "      <td>0.1999</td>\n",
       "      <td>uDQnOWWRqR0e3e9Gdca5lw</td>\n",
       "      <td>['residential_neighborhood', 'street', 'apartm...</td>\n",
       "      <td>0</td>\n",
       "      <td>0</td>\n",
       "      <td>1</td>\n",
       "      <td>0</td>\n",
       "    </tr>\n",
       "    <tr>\n",
       "      <th>2</th>\n",
       "      <td>2</td>\n",
       "      <td>0.2001</td>\n",
       "      <td>-0.0002</td>\n",
       "      <td>0.2</td>\n",
       "      <td>0.0002</td>\n",
       "      <td>2.0</td>\n",
       "      <td>0.5999</td>\n",
       "      <td>i9CFCOnZErlyETxBfVNgAA</td>\n",
       "      <td>['street', 'alley', 'downtown', 'residential_n...</td>\n",
       "      <td>1</td>\n",
       "      <td>0</td>\n",
       "      <td>0</td>\n",
       "      <td>0</td>\n",
       "    </tr>\n",
       "    <tr>\n",
       "      <th>3</th>\n",
       "      <td>3</td>\n",
       "      <td>0.4001</td>\n",
       "      <td>-0.0002</td>\n",
       "      <td>0.2</td>\n",
       "      <td>0.0002</td>\n",
       "      <td>3.0</td>\n",
       "      <td>0.3999</td>\n",
       "      <td>JI9N8XEtaV7G66K0PFVo_g</td>\n",
       "      <td>['downtown', 'street', 'crosswalk', 'parking_g...</td>\n",
       "      <td>0</td>\n",
       "      <td>0</td>\n",
       "      <td>1</td>\n",
       "      <td>0</td>\n",
       "    </tr>\n",
       "    <tr>\n",
       "      <th>4</th>\n",
       "      <td>4</td>\n",
       "      <td>0.4001</td>\n",
       "      <td>0.1998</td>\n",
       "      <td>0.0</td>\n",
       "      <td>0.0002</td>\n",
       "      <td>4.0</td>\n",
       "      <td>0.3999</td>\n",
       "      <td>y-0mK7IyYGb-1rW25PikrQ</td>\n",
       "      <td>['crosswalk', 'highway', 'residential_neighbor...</td>\n",
       "      <td>0</td>\n",
       "      <td>0</td>\n",
       "      <td>1</td>\n",
       "      <td>0</td>\n",
       "    </tr>\n",
       "  </tbody>\n",
       "</table>\n",
       "</div>"
      ],
      "text/plain": [
       "   Unnamed: 0  Architecture  Landmark  N/A  Natural  Unnamed: 0.1  Walkable  \\\n",
       "0           0        0.0001    0.5998  0.0   0.0002           0.0    0.3999   \n",
       "1           1        0.6001    0.1998  0.0   0.0002           1.0    0.1999   \n",
       "2           2        0.2001   -0.0002  0.2   0.0002           2.0    0.5999   \n",
       "3           3        0.4001   -0.0002  0.2   0.0002           3.0    0.3999   \n",
       "4           4        0.4001    0.1998  0.0   0.0002           4.0    0.3999   \n",
       "\n",
       "                   imgKey                                   placesNet_labels  \\\n",
       "0  pPbGnlvoqb88c9oYn068VH  ['plaza', 'embassy', 'street', 'subway_station...   \n",
       "1  uDQnOWWRqR0e3e9Gdca5lw  ['residential_neighborhood', 'street', 'apartm...   \n",
       "2  i9CFCOnZErlyETxBfVNgAA  ['street', 'alley', 'downtown', 'residential_n...   \n",
       "3  JI9N8XEtaV7G66K0PFVo_g  ['downtown', 'street', 'crosswalk', 'parking_g...   \n",
       "4  y-0mK7IyYGb-1rW25PikrQ  ['crosswalk', 'highway', 'residential_neighbor...   \n",
       "\n",
       "   W  L  A  N  \n",
       "0  0  1  0  0  \n",
       "1  0  0  1  0  \n",
       "2  1  0  0  0  \n",
       "3  0  0  1  0  \n",
       "4  0  0  1  0  "
      ]
     },
     "execution_count": 358,
     "metadata": {},
     "output_type": "execute_result"
    }
   ],
   "source": [
    "placesNet_df.head()"
   ]
  },
  {
   "cell_type": "code",
   "execution_count": 359,
   "metadata": {
    "ExecuteTime": {
     "end_time": "2021-05-13T09:45:25.133640Z",
     "start_time": "2021-05-13T09:45:25.008820Z"
    }
   },
   "outputs": [],
   "source": [
    "placesNet_df_sub = placesNet_df[['imgKey','W','L','A','N']].copy()"
   ]
  },
  {
   "cell_type": "code",
   "execution_count": 360,
   "metadata": {
    "ExecuteTime": {
     "end_time": "2021-05-13T09:45:25.844480Z",
     "start_time": "2021-05-13T09:45:25.135773Z"
    }
   },
   "outputs": [
    {
     "data": {
      "text/html": [
       "<div>\n",
       "<style scoped>\n",
       "    .dataframe tbody tr th:only-of-type {\n",
       "        vertical-align: middle;\n",
       "    }\n",
       "\n",
       "    .dataframe tbody tr th {\n",
       "        vertical-align: top;\n",
       "    }\n",
       "\n",
       "    .dataframe thead th {\n",
       "        text-align: right;\n",
       "    }\n",
       "</style>\n",
       "<table border=\"1\" class=\"dataframe\">\n",
       "  <thead>\n",
       "    <tr style=\"text-align: right;\">\n",
       "      <th></th>\n",
       "      <th>Unnamed: 0_x</th>\n",
       "      <th>Imgkey</th>\n",
       "      <th>long</th>\n",
       "      <th>lat</th>\n",
       "      <th>isPano</th>\n",
       "      <th>captureTime</th>\n",
       "      <th>long_lat_string</th>\n",
       "      <th>city</th>\n",
       "      <th>year</th>\n",
       "      <th>Unnamed: 0_y</th>\n",
       "      <th>...</th>\n",
       "      <th>terrain</th>\n",
       "      <th>sky</th>\n",
       "      <th>person_enet</th>\n",
       "      <th>rider_enet</th>\n",
       "      <th>car_enet</th>\n",
       "      <th>truck_enet</th>\n",
       "      <th>bus_enet</th>\n",
       "      <th>train_enet</th>\n",
       "      <th>motorcycle_enet</th>\n",
       "      <th>bicycle_enet</th>\n",
       "    </tr>\n",
       "  </thead>\n",
       "  <tbody>\n",
       "    <tr>\n",
       "      <th>0</th>\n",
       "      <td>0</td>\n",
       "      <td>LvAH_MniU5aoQcqGUSaRfg</td>\n",
       "      <td>24.929696</td>\n",
       "      <td>60.164457</td>\n",
       "      <td>False</td>\n",
       "      <td>2017-05-06T17:08:05.000Z</td>\n",
       "      <td>24.9297_60.1645</td>\n",
       "      <td>Helsinki</td>\n",
       "      <td>2017</td>\n",
       "      <td>273794</td>\n",
       "      <td>...</td>\n",
       "      <td>0.001921</td>\n",
       "      <td>0.020365</td>\n",
       "      <td>0.012210</td>\n",
       "      <td>0.000000</td>\n",
       "      <td>0.105762</td>\n",
       "      <td>0.001077</td>\n",
       "      <td>0.001657</td>\n",
       "      <td>0.176416</td>\n",
       "      <td>0.000003</td>\n",
       "      <td>0.000319</td>\n",
       "    </tr>\n",
       "    <tr>\n",
       "      <th>1</th>\n",
       "      <td>1</td>\n",
       "      <td>I-UrvuxcsFzyOixxzKftXA</td>\n",
       "      <td>24.929745</td>\n",
       "      <td>60.164460</td>\n",
       "      <td>False</td>\n",
       "      <td>2016-12-13T08:30:47.671Z</td>\n",
       "      <td>24.9297_60.1645</td>\n",
       "      <td>Helsinki</td>\n",
       "      <td>2016</td>\n",
       "      <td>325660</td>\n",
       "      <td>...</td>\n",
       "      <td>0.000521</td>\n",
       "      <td>0.165833</td>\n",
       "      <td>0.005837</td>\n",
       "      <td>0.000016</td>\n",
       "      <td>0.143255</td>\n",
       "      <td>0.021221</td>\n",
       "      <td>0.000020</td>\n",
       "      <td>0.000335</td>\n",
       "      <td>0.000007</td>\n",
       "      <td>0.001576</td>\n",
       "    </tr>\n",
       "    <tr>\n",
       "      <th>2</th>\n",
       "      <td>2</td>\n",
       "      <td>PLLDa2_eRgQMp3kciCYzEA</td>\n",
       "      <td>24.929622</td>\n",
       "      <td>60.164430</td>\n",
       "      <td>False</td>\n",
       "      <td>2017-05-06T17:08:04.000Z</td>\n",
       "      <td>24.9296_60.1644</td>\n",
       "      <td>Helsinki</td>\n",
       "      <td>2017</td>\n",
       "      <td>451898</td>\n",
       "      <td>...</td>\n",
       "      <td>0.002256</td>\n",
       "      <td>0.032744</td>\n",
       "      <td>0.015618</td>\n",
       "      <td>0.000000</td>\n",
       "      <td>0.071833</td>\n",
       "      <td>0.005407</td>\n",
       "      <td>0.003083</td>\n",
       "      <td>0.019287</td>\n",
       "      <td>0.002588</td>\n",
       "      <td>0.001973</td>\n",
       "    </tr>\n",
       "    <tr>\n",
       "      <th>3</th>\n",
       "      <td>3</td>\n",
       "      <td>w35tfBtc8gOlIG3TK52Kag</td>\n",
       "      <td>24.929707</td>\n",
       "      <td>60.164380</td>\n",
       "      <td>False</td>\n",
       "      <td>2019-07-11T06:42:15.876Z</td>\n",
       "      <td>24.9297_60.1644</td>\n",
       "      <td>Helsinki</td>\n",
       "      <td>2019</td>\n",
       "      <td>565304</td>\n",
       "      <td>...</td>\n",
       "      <td>0.005605</td>\n",
       "      <td>0.256953</td>\n",
       "      <td>0.053441</td>\n",
       "      <td>0.018994</td>\n",
       "      <td>0.057008</td>\n",
       "      <td>0.004512</td>\n",
       "      <td>0.010160</td>\n",
       "      <td>0.021195</td>\n",
       "      <td>0.000277</td>\n",
       "      <td>0.145479</td>\n",
       "    </tr>\n",
       "    <tr>\n",
       "      <th>4</th>\n",
       "      <td>4</td>\n",
       "      <td>3zWRV2aQtC1XES3hSyNtip</td>\n",
       "      <td>24.929800</td>\n",
       "      <td>60.164474</td>\n",
       "      <td>False</td>\n",
       "      <td>2020-08-13T18:23:35.000Z</td>\n",
       "      <td>24.9298_60.1645</td>\n",
       "      <td>Helsinki</td>\n",
       "      <td>2020</td>\n",
       "      <td>797752</td>\n",
       "      <td>...</td>\n",
       "      <td>0.001956</td>\n",
       "      <td>0.033532</td>\n",
       "      <td>0.038483</td>\n",
       "      <td>0.000046</td>\n",
       "      <td>0.059463</td>\n",
       "      <td>0.001761</td>\n",
       "      <td>0.001315</td>\n",
       "      <td>0.002311</td>\n",
       "      <td>0.001484</td>\n",
       "      <td>0.007780</td>\n",
       "    </tr>\n",
       "    <tr>\n",
       "      <th>...</th>\n",
       "      <td>...</td>\n",
       "      <td>...</td>\n",
       "      <td>...</td>\n",
       "      <td>...</td>\n",
       "      <td>...</td>\n",
       "      <td>...</td>\n",
       "      <td>...</td>\n",
       "      <td>...</td>\n",
       "      <td>...</td>\n",
       "      <td>...</td>\n",
       "      <td>...</td>\n",
       "      <td>...</td>\n",
       "      <td>...</td>\n",
       "      <td>...</td>\n",
       "      <td>...</td>\n",
       "      <td>...</td>\n",
       "      <td>...</td>\n",
       "      <td>...</td>\n",
       "      <td>...</td>\n",
       "      <td>...</td>\n",
       "      <td>...</td>\n",
       "    </tr>\n",
       "    <tr>\n",
       "      <th>798239</th>\n",
       "      <td>798239</td>\n",
       "      <td>v5aXOBlhKZxn340UoU9s2Q</td>\n",
       "      <td>-73.949991</td>\n",
       "      <td>40.673744</td>\n",
       "      <td>False</td>\n",
       "      <td>2019-01-28T00:31:14.972Z</td>\n",
       "      <td>-73.9500_40.6737</td>\n",
       "      <td>New York</td>\n",
       "      <td>2019</td>\n",
       "      <td>290750</td>\n",
       "      <td>...</td>\n",
       "      <td>0.000625</td>\n",
       "      <td>0.001094</td>\n",
       "      <td>0.027347</td>\n",
       "      <td>0.000260</td>\n",
       "      <td>0.281302</td>\n",
       "      <td>0.002327</td>\n",
       "      <td>0.000469</td>\n",
       "      <td>0.000065</td>\n",
       "      <td>0.000039</td>\n",
       "      <td>0.017025</td>\n",
       "    </tr>\n",
       "    <tr>\n",
       "      <th>798240</th>\n",
       "      <td>798240</td>\n",
       "      <td>o0fwkJx7lCDWhrTdB-4kkA</td>\n",
       "      <td>-73.949991</td>\n",
       "      <td>40.673767</td>\n",
       "      <td>False</td>\n",
       "      <td>2019-01-28T00:31:17.307Z</td>\n",
       "      <td>-73.9500_40.6738</td>\n",
       "      <td>New York</td>\n",
       "      <td>2019</td>\n",
       "      <td>398943</td>\n",
       "      <td>...</td>\n",
       "      <td>0.000075</td>\n",
       "      <td>0.057025</td>\n",
       "      <td>0.105033</td>\n",
       "      <td>0.038975</td>\n",
       "      <td>0.183587</td>\n",
       "      <td>0.181227</td>\n",
       "      <td>0.012204</td>\n",
       "      <td>0.002393</td>\n",
       "      <td>0.020371</td>\n",
       "      <td>0.031025</td>\n",
       "    </tr>\n",
       "    <tr>\n",
       "      <th>798241</th>\n",
       "      <td>798241</td>\n",
       "      <td>uP-grx7eGre5wYEjftYlOQ</td>\n",
       "      <td>-73.949990</td>\n",
       "      <td>40.673784</td>\n",
       "      <td>False</td>\n",
       "      <td>2019-01-28T00:31:21.939Z</td>\n",
       "      <td>-73.9500_40.6738</td>\n",
       "      <td>New York</td>\n",
       "      <td>2019</td>\n",
       "      <td>505713</td>\n",
       "      <td>...</td>\n",
       "      <td>0.000000</td>\n",
       "      <td>0.107155</td>\n",
       "      <td>0.085257</td>\n",
       "      <td>0.009574</td>\n",
       "      <td>0.063675</td>\n",
       "      <td>0.134785</td>\n",
       "      <td>0.009349</td>\n",
       "      <td>0.034912</td>\n",
       "      <td>0.038532</td>\n",
       "      <td>0.013682</td>\n",
       "    </tr>\n",
       "    <tr>\n",
       "      <th>798242</th>\n",
       "      <td>798242</td>\n",
       "      <td>j2OKZ3NNkOr54jxmb9PZ2A</td>\n",
       "      <td>-73.949991</td>\n",
       "      <td>40.673803</td>\n",
       "      <td>False</td>\n",
       "      <td>2019-01-28T00:31:23.947Z</td>\n",
       "      <td>-73.9500_40.6738</td>\n",
       "      <td>New York</td>\n",
       "      <td>2019</td>\n",
       "      <td>63347</td>\n",
       "      <td>...</td>\n",
       "      <td>0.000127</td>\n",
       "      <td>0.060462</td>\n",
       "      <td>0.140443</td>\n",
       "      <td>0.004255</td>\n",
       "      <td>0.058190</td>\n",
       "      <td>0.030811</td>\n",
       "      <td>0.003118</td>\n",
       "      <td>0.044030</td>\n",
       "      <td>0.001969</td>\n",
       "      <td>0.068473</td>\n",
       "    </tr>\n",
       "    <tr>\n",
       "      <th>798243</th>\n",
       "      <td>798243</td>\n",
       "      <td>svhffkPwCLk-IC-1Yk_hjw</td>\n",
       "      <td>-73.949993</td>\n",
       "      <td>40.673822</td>\n",
       "      <td>False</td>\n",
       "      <td>2019-01-28T00:31:25.306Z</td>\n",
       "      <td>-73.9500_40.6738</td>\n",
       "      <td>New York</td>\n",
       "      <td>2019</td>\n",
       "      <td>668341</td>\n",
       "      <td>...</td>\n",
       "      <td>0.001536</td>\n",
       "      <td>0.100124</td>\n",
       "      <td>0.133610</td>\n",
       "      <td>0.007812</td>\n",
       "      <td>0.137826</td>\n",
       "      <td>0.004873</td>\n",
       "      <td>0.001436</td>\n",
       "      <td>0.002155</td>\n",
       "      <td>0.007480</td>\n",
       "      <td>0.027900</td>\n",
       "    </tr>\n",
       "  </tbody>\n",
       "</table>\n",
       "<p>798244 rows × 114 columns</p>\n",
       "</div>"
      ],
      "text/plain": [
       "        Unnamed: 0_x                  Imgkey       long        lat  isPano  \\\n",
       "0                  0  LvAH_MniU5aoQcqGUSaRfg  24.929696  60.164457   False   \n",
       "1                  1  I-UrvuxcsFzyOixxzKftXA  24.929745  60.164460   False   \n",
       "2                  2  PLLDa2_eRgQMp3kciCYzEA  24.929622  60.164430   False   \n",
       "3                  3  w35tfBtc8gOlIG3TK52Kag  24.929707  60.164380   False   \n",
       "4                  4  3zWRV2aQtC1XES3hSyNtip  24.929800  60.164474   False   \n",
       "...              ...                     ...        ...        ...     ...   \n",
       "798239        798239  v5aXOBlhKZxn340UoU9s2Q -73.949991  40.673744   False   \n",
       "798240        798240  o0fwkJx7lCDWhrTdB-4kkA -73.949991  40.673767   False   \n",
       "798241        798241  uP-grx7eGre5wYEjftYlOQ -73.949990  40.673784   False   \n",
       "798242        798242  j2OKZ3NNkOr54jxmb9PZ2A -73.949991  40.673803   False   \n",
       "798243        798243  svhffkPwCLk-IC-1Yk_hjw -73.949993  40.673822   False   \n",
       "\n",
       "                     captureTime   long_lat_string      city  year  \\\n",
       "0       2017-05-06T17:08:05.000Z   24.9297_60.1645  Helsinki  2017   \n",
       "1       2016-12-13T08:30:47.671Z   24.9297_60.1645  Helsinki  2016   \n",
       "2       2017-05-06T17:08:04.000Z   24.9296_60.1644  Helsinki  2017   \n",
       "3       2019-07-11T06:42:15.876Z   24.9297_60.1644  Helsinki  2019   \n",
       "4       2020-08-13T18:23:35.000Z   24.9298_60.1645  Helsinki  2020   \n",
       "...                          ...               ...       ...   ...   \n",
       "798239  2019-01-28T00:31:14.972Z  -73.9500_40.6737  New York  2019   \n",
       "798240  2019-01-28T00:31:17.307Z  -73.9500_40.6738  New York  2019   \n",
       "798241  2019-01-28T00:31:21.939Z  -73.9500_40.6738  New York  2019   \n",
       "798242  2019-01-28T00:31:23.947Z  -73.9500_40.6738  New York  2019   \n",
       "798243  2019-01-28T00:31:25.306Z  -73.9500_40.6738  New York  2019   \n",
       "\n",
       "        Unnamed: 0_y  ...   terrain       sky  person_enet  rider_enet  \\\n",
       "0             273794  ...  0.001921  0.020365     0.012210    0.000000   \n",
       "1             325660  ...  0.000521  0.165833     0.005837    0.000016   \n",
       "2             451898  ...  0.002256  0.032744     0.015618    0.000000   \n",
       "3             565304  ...  0.005605  0.256953     0.053441    0.018994   \n",
       "4             797752  ...  0.001956  0.033532     0.038483    0.000046   \n",
       "...              ...  ...       ...       ...          ...         ...   \n",
       "798239        290750  ...  0.000625  0.001094     0.027347    0.000260   \n",
       "798240        398943  ...  0.000075  0.057025     0.105033    0.038975   \n",
       "798241        505713  ...  0.000000  0.107155     0.085257    0.009574   \n",
       "798242         63347  ...  0.000127  0.060462     0.140443    0.004255   \n",
       "798243        668341  ...  0.001536  0.100124     0.133610    0.007812   \n",
       "\n",
       "        car_enet  truck_enet  bus_enet  train_enet  motorcycle_enet  \\\n",
       "0       0.105762    0.001077  0.001657    0.176416         0.000003   \n",
       "1       0.143255    0.021221  0.000020    0.000335         0.000007   \n",
       "2       0.071833    0.005407  0.003083    0.019287         0.002588   \n",
       "3       0.057008    0.004512  0.010160    0.021195         0.000277   \n",
       "4       0.059463    0.001761  0.001315    0.002311         0.001484   \n",
       "...          ...         ...       ...         ...              ...   \n",
       "798239  0.281302    0.002327  0.000469    0.000065         0.000039   \n",
       "798240  0.183587    0.181227  0.012204    0.002393         0.020371   \n",
       "798241  0.063675    0.134785  0.009349    0.034912         0.038532   \n",
       "798242  0.058190    0.030811  0.003118    0.044030         0.001969   \n",
       "798243  0.137826    0.004873  0.001436    0.002155         0.007480   \n",
       "\n",
       "        bicycle_enet  \n",
       "0           0.000319  \n",
       "1           0.001576  \n",
       "2           0.001973  \n",
       "3           0.145479  \n",
       "4           0.007780  \n",
       "...              ...  \n",
       "798239      0.017025  \n",
       "798240      0.031025  \n",
       "798241      0.013682  \n",
       "798242      0.068473  \n",
       "798243      0.027900  \n",
       "\n",
       "[798244 rows x 114 columns]"
      ]
     },
     "execution_count": 360,
     "metadata": {},
     "output_type": "execute_result"
    }
   ],
   "source": [
    "total_mappilary_df"
   ]
  },
  {
   "cell_type": "code",
   "execution_count": 361,
   "metadata": {
    "ExecuteTime": {
     "end_time": "2021-05-13T09:45:26.934566Z",
     "start_time": "2021-05-13T09:45:25.845990Z"
    }
   },
   "outputs": [],
   "source": [
    "total_mappilary_df = pd.merge(total_mappilary_df ,placesNet_df_sub ,left_on='Imgkey',right_on='imgKey')"
   ]
  },
  {
   "cell_type": "code",
   "execution_count": 362,
   "metadata": {
    "ExecuteTime": {
     "end_time": "2021-05-13T09:45:26.991992Z",
     "start_time": "2021-05-13T09:45:26.936208Z"
    }
   },
   "outputs": [],
   "source": [
    "for k in segnetDict:\n",
    "    total_mappilary_df[k] = 0.0\n",
    "    for tag in segnetDict[k]:\n",
    "        total_mappilary_df[k]+=total_mappilary_df[tag]"
   ]
  },
  {
   "cell_type": "code",
   "execution_count": 363,
   "metadata": {
    "ExecuteTime": {
     "end_time": "2021-05-13T09:45:27.084078Z",
     "start_time": "2021-05-13T09:45:26.993632Z"
    }
   },
   "outputs": [],
   "source": [
    "for k in cocoDict:\n",
    "    total_mappilary_df[k] = 0.0\n",
    "    for tag in cocoDict[k]:\n",
    "        total_mappilary_df[k]+=total_mappilary_df[tag]"
   ]
  },
  {
   "cell_type": "code",
   "execution_count": 364,
   "metadata": {
    "ExecuteTime": {
     "end_time": "2021-05-13T09:45:27.117088Z",
     "start_time": "2021-05-13T09:45:27.086100Z"
    }
   },
   "outputs": [
    {
     "name": "stdout",
     "output_type": "stream",
     "text": [
      "['Unnamed: 0_x', 'Imgkey', 'long', 'lat', 'isPano', 'captureTime', 'long_lat_string', 'city', 'year', 'Unnamed: 0_y', 'ImgId', 'ObjEntropy', 'SceneEntropy', '__background__', 'person', 'bicycle', 'car_coco', 'motorcycle', 'airplane', 'bus', 'train', 'truck', 'boat', 'traffic light', 'fire hydrant', 'stop sign', 'parking meter', 'bench', 'bird', 'cat', 'dog', 'horse', 'sheep', 'cow', 'elephant', 'bear', 'zebra', 'giraffe', 'backpack', 'umbrella', 'handbag', 'tie', 'suitcase', 'frisbee', 'skis', 'snowboard', 'sports ball', 'kite', 'baseball bat', 'baseball glove', 'skateboard', 'surfboard', 'tennis racket', 'bottle', 'wine glass', 'cup', 'fork', 'knife', 'spoon', 'bowl', 'banana', 'apple', 'sandwich', 'orange', 'broccoli', 'carrot', 'hot dog', 'pizza', 'donut', 'cake', 'chair', 'couch', 'potted plant', 'bed', 'dining table', 'toilet', 'tv', 'laptop', 'mouse', 'remote', 'keyboard', 'cell phone', 'microwave', 'oven', 'toaster', 'sink', 'refrigerator', 'book', 'clock', 'vase', 'scissors', 'teddy bear', 'hair drier', 'toothbrush', 'unlabeled', 'road', 'sidewalk', 'building', 'wall', 'fence_enet', 'pole_enet', 'traffic_light', 'traffic_sign', 'vegetation', 'terrain', 'sky', 'person_enet', 'rider_enet', 'car_enet', 'truck_enet', 'bus_enet', 'train_enet', 'motorcycle_enet', 'bicycle_enet', 'imgKey', 'W', 'L', 'A', 'N', 'Car_Infrastructure_enet', 'Pedestrians_enet', 'Architecture_enet', 'Nature_enet', 'Car_Infrastructure_coco', 'Pedestrians_coco']\n"
     ]
    }
   ],
   "source": [
    "print(list(total_mappilary_df.columns))"
   ]
  },
  {
   "cell_type": "code",
   "execution_count": 365,
   "metadata": {
    "ExecuteTime": {
     "end_time": "2021-05-13T09:46:04.135298Z",
     "start_time": "2021-05-13T09:45:27.119490Z"
    }
   },
   "outputs": [],
   "source": [
    "total_mappilary_df['segNet_entropy_new'] = total_mappilary_df.apply(lambda x: Entropy([x[col] for col in segnetDict.keys()]) , axis = 1 )"
   ]
  },
  {
   "cell_type": "code",
   "execution_count": 366,
   "metadata": {
    "ExecuteTime": {
     "end_time": "2021-05-13T09:46:27.566317Z",
     "start_time": "2021-05-13T09:46:04.137000Z"
    }
   },
   "outputs": [],
   "source": [
    "total_mappilary_df['coco_entropy_new'] = total_mappilary_df.apply(lambda x: Entropy([x[col] for col in cocoDict.keys()]) , axis = 1 )"
   ]
  },
  {
   "cell_type": "code",
   "execution_count": 367,
   "metadata": {
    "ExecuteTime": {
     "end_time": "2021-05-13T09:46:28.019919Z",
     "start_time": "2021-05-13T09:46:27.567968Z"
    }
   },
   "outputs": [
    {
     "data": {
      "text/plain": [
       "<matplotlib.axes._subplots.AxesSubplot at 0x7f3992563f60>"
      ]
     },
     "execution_count": 367,
     "metadata": {},
     "output_type": "execute_result"
    },
    {
     "data": {
      "image/png": "[encoded data removed]",
      "text/plain": [
       "<Figure size 432x288 with 1 Axes>"
      ]
     },
     "metadata": {
      "needs_background": "light"
     },
     "output_type": "display_data"
    }
   ],
   "source": [
    "sns.distplot(total_mappilary_df['segNet_entropy_new'])"
   ]
  },
  {
   "cell_type": "code",
   "execution_count": 368,
   "metadata": {
    "ExecuteTime": {
     "end_time": "2021-05-13T09:46:28.356084Z",
     "start_time": "2021-05-13T09:46:28.021578Z"
    }
   },
   "outputs": [
    {
     "data": {
      "text/plain": [
       "<matplotlib.axes._subplots.AxesSubplot at 0x7f399d6a84e0>"
      ]
     },
     "execution_count": 368,
     "metadata": {},
     "output_type": "execute_result"
    },
    {
     "data": {
      "image/png": "[encoded data removed]",
      "text/plain": [
       "<Figure size 432x288 with 1 Axes>"
      ]
     },
     "metadata": {
      "needs_background": "light"
     },
     "output_type": "display_data"
    }
   ],
   "source": [
    "sns.distplot(total_mappilary_df['coco_entropy_new'])"
   ]
  },
  {
   "cell_type": "code",
   "execution_count": 369,
   "metadata": {
    "ExecuteTime": {
     "end_time": "2021-05-13T09:46:28.362328Z",
     "start_time": "2021-05-13T09:46:28.357638Z"
    }
   },
   "outputs": [],
   "source": [
    "city_road_entropy = pd.read_csv('scratchpad/City_entropy.csv')"
   ]
  },
  {
   "cell_type": "code",
   "execution_count": 370,
   "metadata": {
    "ExecuteTime": {
     "end_time": "2021-05-13T09:46:28.513234Z",
     "start_time": "2021-05-13T09:46:28.363763Z"
    }
   },
   "outputs": [
    {
     "data": {
      "text/html": [
       "<div>\n",
       "<style scoped>\n",
       "    .dataframe tbody tr th:only-of-type {\n",
       "        vertical-align: middle;\n",
       "    }\n",
       "\n",
       "    .dataframe tbody tr th {\n",
       "        vertical-align: top;\n",
       "    }\n",
       "\n",
       "    .dataframe thead th {\n",
       "        text-align: right;\n",
       "    }\n",
       "</style>\n",
       "<table border=\"1\" class=\"dataframe\">\n",
       "  <thead>\n",
       "    <tr style=\"text-align: right;\">\n",
       "      <th></th>\n",
       "      <th>city</th>\n",
       "      <th>street_entropy</th>\n",
       "    </tr>\n",
       "  </thead>\n",
       "  <tbody>\n",
       "    <tr>\n",
       "      <th>0</th>\n",
       "      <td>New York</td>\n",
       "      <td>1.980912</td>\n",
       "    </tr>\n",
       "    <tr>\n",
       "      <th>1</th>\n",
       "      <td>Hamburg</td>\n",
       "      <td>2.207576</td>\n",
       "    </tr>\n",
       "  </tbody>\n",
       "</table>\n",
       "</div>"
      ],
      "text/plain": [
       "       city  street_entropy\n",
       "0  New York        1.980912\n",
       "1   Hamburg        2.207576"
      ]
     },
     "execution_count": 370,
     "metadata": {},
     "output_type": "execute_result"
    }
   ],
   "source": [
    "city_road_entropy.head(n=2)"
   ]
  },
  {
   "cell_type": "code",
   "execution_count": 371,
   "metadata": {
    "ExecuteTime": {
     "end_time": "2021-05-13T09:46:29.013124Z",
     "start_time": "2021-05-13T09:46:28.515536Z"
    }
   },
   "outputs": [
    {
     "data": {
      "text/html": [
       "<div>\n",
       "<style scoped>\n",
       "    .dataframe tbody tr th:only-of-type {\n",
       "        vertical-align: middle;\n",
       "    }\n",
       "\n",
       "    .dataframe tbody tr th {\n",
       "        vertical-align: top;\n",
       "    }\n",
       "\n",
       "    .dataframe thead th {\n",
       "        text-align: right;\n",
       "    }\n",
       "</style>\n",
       "<table border=\"1\" class=\"dataframe\">\n",
       "  <thead>\n",
       "    <tr style=\"text-align: right;\">\n",
       "      <th></th>\n",
       "      <th>Unnamed: 0_x</th>\n",
       "      <th>Imgkey</th>\n",
       "      <th>long</th>\n",
       "      <th>lat</th>\n",
       "      <th>isPano</th>\n",
       "      <th>captureTime</th>\n",
       "      <th>long_lat_string</th>\n",
       "      <th>city</th>\n",
       "      <th>year</th>\n",
       "      <th>Unnamed: 0_y</th>\n",
       "      <th>...</th>\n",
       "      <th>A</th>\n",
       "      <th>N</th>\n",
       "      <th>Car_Infrastructure_enet</th>\n",
       "      <th>Pedestrians_enet</th>\n",
       "      <th>Architecture_enet</th>\n",
       "      <th>Nature_enet</th>\n",
       "      <th>Car_Infrastructure_coco</th>\n",
       "      <th>Pedestrians_coco</th>\n",
       "      <th>segNet_entropy_new</th>\n",
       "      <th>coco_entropy_new</th>\n",
       "    </tr>\n",
       "  </thead>\n",
       "  <tbody>\n",
       "    <tr>\n",
       "      <th>0</th>\n",
       "      <td>0</td>\n",
       "      <td>LvAH_MniU5aoQcqGUSaRfg</td>\n",
       "      <td>24.929696</td>\n",
       "      <td>60.164457</td>\n",
       "      <td>False</td>\n",
       "      <td>2017-05-06T17:08:05.000Z</td>\n",
       "      <td>24.9297_60.1645</td>\n",
       "      <td>Helsinki</td>\n",
       "      <td>2017</td>\n",
       "      <td>273794</td>\n",
       "      <td>...</td>\n",
       "      <td>1</td>\n",
       "      <td>0</td>\n",
       "      <td>0.338753</td>\n",
       "      <td>0.024408</td>\n",
       "      <td>0.438138</td>\n",
       "      <td>0.022285</td>\n",
       "      <td>13.0</td>\n",
       "      <td>1.0</td>\n",
       "      <td>0.766874</td>\n",
       "      <td>0.304557</td>\n",
       "    </tr>\n",
       "    <tr>\n",
       "      <th>1</th>\n",
       "      <td>1</td>\n",
       "      <td>I-UrvuxcsFzyOixxzKftXA</td>\n",
       "      <td>24.929745</td>\n",
       "      <td>60.164460</td>\n",
       "      <td>False</td>\n",
       "      <td>2016-12-13T08:30:47.671Z</td>\n",
       "      <td>24.9297_60.1645</td>\n",
       "      <td>Helsinki</td>\n",
       "      <td>2016</td>\n",
       "      <td>325660</td>\n",
       "      <td>...</td>\n",
       "      <td>1</td>\n",
       "      <td>0</td>\n",
       "      <td>0.483802</td>\n",
       "      <td>0.008203</td>\n",
       "      <td>0.334961</td>\n",
       "      <td>0.172682</td>\n",
       "      <td>11.0</td>\n",
       "      <td>0.0</td>\n",
       "      <td>0.876680</td>\n",
       "      <td>0.079760</td>\n",
       "    </tr>\n",
       "    <tr>\n",
       "      <th>2</th>\n",
       "      <td>2</td>\n",
       "      <td>PLLDa2_eRgQMp3kciCYzEA</td>\n",
       "      <td>24.929622</td>\n",
       "      <td>60.164430</td>\n",
       "      <td>False</td>\n",
       "      <td>2017-05-06T17:08:04.000Z</td>\n",
       "      <td>24.9296_60.1644</td>\n",
       "      <td>Helsinki</td>\n",
       "      <td>2017</td>\n",
       "      <td>451898</td>\n",
       "      <td>...</td>\n",
       "      <td>1</td>\n",
       "      <td>0</td>\n",
       "      <td>0.396745</td>\n",
       "      <td>0.069014</td>\n",
       "      <td>0.479909</td>\n",
       "      <td>0.035046</td>\n",
       "      <td>10.0</td>\n",
       "      <td>1.0</td>\n",
       "      <td>0.853898</td>\n",
       "      <td>0.359010</td>\n",
       "    </tr>\n",
       "    <tr>\n",
       "      <th>3</th>\n",
       "      <td>3</td>\n",
       "      <td>w35tfBtc8gOlIG3TK52Kag</td>\n",
       "      <td>24.929707</td>\n",
       "      <td>60.164380</td>\n",
       "      <td>False</td>\n",
       "      <td>2019-07-11T06:42:15.876Z</td>\n",
       "      <td>24.9297_60.1644</td>\n",
       "      <td>Helsinki</td>\n",
       "      <td>2019</td>\n",
       "      <td>565304</td>\n",
       "      <td>...</td>\n",
       "      <td>0</td>\n",
       "      <td>0</td>\n",
       "      <td>0.216777</td>\n",
       "      <td>0.234333</td>\n",
       "      <td>0.238411</td>\n",
       "      <td>0.270290</td>\n",
       "      <td>12.0</td>\n",
       "      <td>3.0</td>\n",
       "      <td>1.026981</td>\n",
       "      <td>0.529632</td>\n",
       "    </tr>\n",
       "    <tr>\n",
       "      <th>4</th>\n",
       "      <td>4</td>\n",
       "      <td>3zWRV2aQtC1XES3hSyNtip</td>\n",
       "      <td>24.929800</td>\n",
       "      <td>60.164474</td>\n",
       "      <td>False</td>\n",
       "      <td>2020-08-13T18:23:35.000Z</td>\n",
       "      <td>24.9298_60.1645</td>\n",
       "      <td>Helsinki</td>\n",
       "      <td>2020</td>\n",
       "      <td>797752</td>\n",
       "      <td>...</td>\n",
       "      <td>1</td>\n",
       "      <td>0</td>\n",
       "      <td>0.542751</td>\n",
       "      <td>0.063883</td>\n",
       "      <td>0.355518</td>\n",
       "      <td>0.035492</td>\n",
       "      <td>9.0</td>\n",
       "      <td>0.0</td>\n",
       "      <td>0.842941</td>\n",
       "      <td>0.094824</td>\n",
       "    </tr>\n",
       "    <tr>\n",
       "      <th>...</th>\n",
       "      <td>...</td>\n",
       "      <td>...</td>\n",
       "      <td>...</td>\n",
       "      <td>...</td>\n",
       "      <td>...</td>\n",
       "      <td>...</td>\n",
       "      <td>...</td>\n",
       "      <td>...</td>\n",
       "      <td>...</td>\n",
       "      <td>...</td>\n",
       "      <td>...</td>\n",
       "      <td>...</td>\n",
       "      <td>...</td>\n",
       "      <td>...</td>\n",
       "      <td>...</td>\n",
       "      <td>...</td>\n",
       "      <td>...</td>\n",
       "      <td>...</td>\n",
       "      <td>...</td>\n",
       "      <td>...</td>\n",
       "      <td>...</td>\n",
       "    </tr>\n",
       "    <tr>\n",
       "      <th>798239</th>\n",
       "      <td>798239</td>\n",
       "      <td>v5aXOBlhKZxn340UoU9s2Q</td>\n",
       "      <td>-73.949991</td>\n",
       "      <td>40.673744</td>\n",
       "      <td>False</td>\n",
       "      <td>2019-01-28T00:31:14.972Z</td>\n",
       "      <td>-73.9500_40.6737</td>\n",
       "      <td>New York</td>\n",
       "      <td>2019</td>\n",
       "      <td>290750</td>\n",
       "      <td>...</td>\n",
       "      <td>1</td>\n",
       "      <td>0</td>\n",
       "      <td>0.398389</td>\n",
       "      <td>0.106833</td>\n",
       "      <td>0.489349</td>\n",
       "      <td>0.005104</td>\n",
       "      <td>3.0</td>\n",
       "      <td>2.0</td>\n",
       "      <td>0.837638</td>\n",
       "      <td>0.712778</td>\n",
       "    </tr>\n",
       "    <tr>\n",
       "      <th>798240</th>\n",
       "      <td>798240</td>\n",
       "      <td>o0fwkJx7lCDWhrTdB-4kkA</td>\n",
       "      <td>-73.949991</td>\n",
       "      <td>40.673767</td>\n",
       "      <td>False</td>\n",
       "      <td>2019-01-28T00:31:17.307Z</td>\n",
       "      <td>-73.9500_40.6738</td>\n",
       "      <td>New York</td>\n",
       "      <td>2019</td>\n",
       "      <td>398943</td>\n",
       "      <td>...</td>\n",
       "      <td>0</td>\n",
       "      <td>0</td>\n",
       "      <td>0.508923</td>\n",
       "      <td>0.152650</td>\n",
       "      <td>0.239941</td>\n",
       "      <td>0.057119</td>\n",
       "      <td>5.0</td>\n",
       "      <td>8.0</td>\n",
       "      <td>0.909364</td>\n",
       "      <td>0.687502</td>\n",
       "    </tr>\n",
       "    <tr>\n",
       "      <th>798241</th>\n",
       "      <td>798241</td>\n",
       "      <td>uP-grx7eGre5wYEjftYlOQ</td>\n",
       "      <td>-73.949990</td>\n",
       "      <td>40.673784</td>\n",
       "      <td>False</td>\n",
       "      <td>2019-01-28T00:31:21.939Z</td>\n",
       "      <td>-73.9500_40.6738</td>\n",
       "      <td>New York</td>\n",
       "      <td>2019</td>\n",
       "      <td>505713</td>\n",
       "      <td>...</td>\n",
       "      <td>0</td>\n",
       "      <td>0</td>\n",
       "      <td>0.349154</td>\n",
       "      <td>0.126852</td>\n",
       "      <td>0.372354</td>\n",
       "      <td>0.107155</td>\n",
       "      <td>7.0</td>\n",
       "      <td>5.0</td>\n",
       "      <td>0.960008</td>\n",
       "      <td>0.700833</td>\n",
       "    </tr>\n",
       "    <tr>\n",
       "      <th>798242</th>\n",
       "      <td>798242</td>\n",
       "      <td>j2OKZ3NNkOr54jxmb9PZ2A</td>\n",
       "      <td>-73.949991</td>\n",
       "      <td>40.673803</td>\n",
       "      <td>False</td>\n",
       "      <td>2019-01-28T00:31:23.947Z</td>\n",
       "      <td>-73.9500_40.6738</td>\n",
       "      <td>New York</td>\n",
       "      <td>2019</td>\n",
       "      <td>63347</td>\n",
       "      <td>...</td>\n",
       "      <td>0</td>\n",
       "      <td>0</td>\n",
       "      <td>0.190999</td>\n",
       "      <td>0.235651</td>\n",
       "      <td>0.464476</td>\n",
       "      <td>0.060589</td>\n",
       "      <td>7.0</td>\n",
       "      <td>5.0</td>\n",
       "      <td>0.932144</td>\n",
       "      <td>0.700833</td>\n",
       "    </tr>\n",
       "    <tr>\n",
       "      <th>798243</th>\n",
       "      <td>798243</td>\n",
       "      <td>svhffkPwCLk-IC-1Yk_hjw</td>\n",
       "      <td>-73.949993</td>\n",
       "      <td>40.673822</td>\n",
       "      <td>False</td>\n",
       "      <td>2019-01-28T00:31:25.306Z</td>\n",
       "      <td>-73.9500_40.6738</td>\n",
       "      <td>New York</td>\n",
       "      <td>2019</td>\n",
       "      <td>668341</td>\n",
       "      <td>...</td>\n",
       "      <td>0</td>\n",
       "      <td>0</td>\n",
       "      <td>0.412083</td>\n",
       "      <td>0.166800</td>\n",
       "      <td>0.309469</td>\n",
       "      <td>0.101680</td>\n",
       "      <td>8.0</td>\n",
       "      <td>6.0</td>\n",
       "      <td>0.975238</td>\n",
       "      <td>0.701774</td>\n",
       "    </tr>\n",
       "  </tbody>\n",
       "</table>\n",
       "<p>798244 rows × 127 columns</p>\n",
       "</div>"
      ],
      "text/plain": [
       "        Unnamed: 0_x                  Imgkey       long        lat  isPano  \\\n",
       "0                  0  LvAH_MniU5aoQcqGUSaRfg  24.929696  60.164457   False   \n",
       "1                  1  I-UrvuxcsFzyOixxzKftXA  24.929745  60.164460   False   \n",
       "2                  2  PLLDa2_eRgQMp3kciCYzEA  24.929622  60.164430   False   \n",
       "3                  3  w35tfBtc8gOlIG3TK52Kag  24.929707  60.164380   False   \n",
       "4                  4  3zWRV2aQtC1XES3hSyNtip  24.929800  60.164474   False   \n",
       "...              ...                     ...        ...        ...     ...   \n",
       "798239        798239  v5aXOBlhKZxn340UoU9s2Q -73.949991  40.673744   False   \n",
       "798240        798240  o0fwkJx7lCDWhrTdB-4kkA -73.949991  40.673767   False   \n",
       "798241        798241  uP-grx7eGre5wYEjftYlOQ -73.949990  40.673784   False   \n",
       "798242        798242  j2OKZ3NNkOr54jxmb9PZ2A -73.949991  40.673803   False   \n",
       "798243        798243  svhffkPwCLk-IC-1Yk_hjw -73.949993  40.673822   False   \n",
       "\n",
       "                     captureTime   long_lat_string      city  year  \\\n",
       "0       2017-05-06T17:08:05.000Z   24.9297_60.1645  Helsinki  2017   \n",
       "1       2016-12-13T08:30:47.671Z   24.9297_60.1645  Helsinki  2016   \n",
       "2       2017-05-06T17:08:04.000Z   24.9296_60.1644  Helsinki  2017   \n",
       "3       2019-07-11T06:42:15.876Z   24.9297_60.1644  Helsinki  2019   \n",
       "4       2020-08-13T18:23:35.000Z   24.9298_60.1645  Helsinki  2020   \n",
       "...                          ...               ...       ...   ...   \n",
       "798239  2019-01-28T00:31:14.972Z  -73.9500_40.6737  New York  2019   \n",
       "798240  2019-01-28T00:31:17.307Z  -73.9500_40.6738  New York  2019   \n",
       "798241  2019-01-28T00:31:21.939Z  -73.9500_40.6738  New York  2019   \n",
       "798242  2019-01-28T00:31:23.947Z  -73.9500_40.6738  New York  2019   \n",
       "798243  2019-01-28T00:31:25.306Z  -73.9500_40.6738  New York  2019   \n",
       "\n",
       "        Unnamed: 0_y  ...  A  N  Car_Infrastructure_enet  Pedestrians_enet  \\\n",
       "0             273794  ...  1  0                 0.338753          0.024408   \n",
       "1             325660  ...  1  0                 0.483802          0.008203   \n",
       "2             451898  ...  1  0                 0.396745          0.069014   \n",
       "3             565304  ...  0  0                 0.216777          0.234333   \n",
       "4             797752  ...  1  0                 0.542751          0.063883   \n",
       "...              ...  ... .. ..                      ...               ...   \n",
       "798239        290750  ...  1  0                 0.398389          0.106833   \n",
       "798240        398943  ...  0  0                 0.508923          0.152650   \n",
       "798241        505713  ...  0  0                 0.349154          0.126852   \n",
       "798242         63347  ...  0  0                 0.190999          0.235651   \n",
       "798243        668341  ...  0  0                 0.412083          0.166800   \n",
       "\n",
       "        Architecture_enet  Nature_enet  Car_Infrastructure_coco  \\\n",
       "0                0.438138     0.022285                     13.0   \n",
       "1                0.334961     0.172682                     11.0   \n",
       "2                0.479909     0.035046                     10.0   \n",
       "3                0.238411     0.270290                     12.0   \n",
       "4                0.355518     0.035492                      9.0   \n",
       "...                   ...          ...                      ...   \n",
       "798239           0.489349     0.005104                      3.0   \n",
       "798240           0.239941     0.057119                      5.0   \n",
       "798241           0.372354     0.107155                      7.0   \n",
       "798242           0.464476     0.060589                      7.0   \n",
       "798243           0.309469     0.101680                      8.0   \n",
       "\n",
       "        Pedestrians_coco  segNet_entropy_new  coco_entropy_new  \n",
       "0                    1.0            0.766874          0.304557  \n",
       "1                    0.0            0.876680          0.079760  \n",
       "2                    1.0            0.853898          0.359010  \n",
       "3                    3.0            1.026981          0.529632  \n",
       "4                    0.0            0.842941          0.094824  \n",
       "...                  ...                 ...               ...  \n",
       "798239               2.0            0.837638          0.712778  \n",
       "798240               8.0            0.909364          0.687502  \n",
       "798241               5.0            0.960008          0.700833  \n",
       "798242               5.0            0.932144          0.700833  \n",
       "798243               6.0            0.975238          0.701774  \n",
       "\n",
       "[798244 rows x 127 columns]"
      ]
     },
     "execution_count": 371,
     "metadata": {},
     "output_type": "execute_result"
    }
   ],
   "source": [
    "total_mappilary_df"
   ]
  },
  {
   "cell_type": "code",
   "execution_count": 376,
   "metadata": {
    "ExecuteTime": {
     "end_time": "2021-05-13T13:12:58.848660Z",
     "start_time": "2021-05-13T10:45:34.303447Z"
    }
   },
   "outputs": [
    {
     "name": "stderr",
     "output_type": "stream",
     "text": [
      "100%|██████████| 21/21 [2:27:24<00:00, 421.16s/it]  \n"
     ]
    }
   ],
   "source": [
    "from tqdm import tqdm\n",
    "# city_dict = {'city': [] , 'objectEntropy_mean': [], 'SegnetEntropy_mean': [] , 'Car_Infrastructure_enet' : [] , 'Pedestrians_enet' : [] , 'Architecture_enet': [] , 'Nature_enet' : [],\n",
    "#             'Car_Infrastructure_coco' : [] , 'Pedestrians_coco': [] , 'Walkability' : [] , 'Landmark':[], 'Architecture': [], 'Natural': [],\n",
    "#             'Place_entropy':[]}\n",
    "city_dict = {'city': [] , 'Car_Infrastructure_enet' : [] , 'Pedestrians_enet' : [] , 'Architecture_enet': [] , 'Nature_enet' : [],\n",
    "             'Walkability' : [] , 'Landmark':[], 'Architecture': [], 'Natural': [], 'Place_entropy':[]}\n",
    "\n",
    "\n",
    "for name , group in tqdm(total_mappilary_df.groupby('city')):\n",
    "    city_dict['city'].append(name)\n",
    "#     city_dict['objectEntropy_mean'].append(np.mean(group['coco_entropy_new']))\n",
    "#     city_dict['SegnetEntropy_mean'].append(np.mean(group['segNet_entropy_new']))\n",
    "    city_dict['Car_Infrastructure_enet'].append(np.mean(group['Car_Infrastructure_enet']))\n",
    "    city_dict['Pedestrians_enet'].append(np.mean(group['Pedestrians_enet']))\n",
    "    city_dict['Architecture_enet'].append(np.mean(group['Architecture_enet']))\n",
    "    city_dict['Nature_enet'].append(np.mean(group['Nature_enet']))\n",
    "#     city_dict['Car_Infrastructure_coco'].append(np.sum(group['Car_Infrastructure_coco']))\n",
    "#     city_dict['Pedestrians_coco'].append(np.sum(group['Pedestrians_coco']))\n",
    "#     city_dict['Architecture_coco'].append(np.sum(group['Architecture_coco']))\n",
    "#     city_dict['Nature_coco'].append(np.sum(group['Nature_coco']))\n",
    "    scene_dist = group[['W','L','A','N']].sum(axis=1).values\n",
    "    city_dict['Place_entropy'].append(Entropy(scene_dist))\n",
    "    city_dict['Natural'].append(np.sum(group['N'])/len(group))\n",
    "    city_dict['Architecture'].append(np.sum(group['A'])/len(group))\n",
    "    city_dict['Landmark'].append(np.sum(group['L'])/len(group))\n",
    "    city_dict['Walkability'].append(np.sum(group['W'])/len(group))\n",
    "\n",
    "\n",
    "city_mappilary_df = pd.DataFrame.from_dict(city_dict)"
   ]
  },
  {
   "cell_type": "code",
   "execution_count": 377,
   "metadata": {
    "ExecuteTime": {
     "end_time": "2021-05-13T13:15:20.290968Z",
     "start_time": "2021-05-13T13:15:20.280519Z"
    }
   },
   "outputs": [],
   "source": [
    "city_mappilary_df = pd.merge(city_mappilary_df,city_road_entropy,left_on='city' , right_on='city')"
   ]
  },
  {
   "cell_type": "code",
   "execution_count": 378,
   "metadata": {
    "ExecuteTime": {
     "end_time": "2021-05-13T13:15:20.892609Z",
     "start_time": "2021-05-13T13:15:20.861608Z"
    }
   },
   "outputs": [
    {
     "data": {
      "text/html": [
       "<div>\n",
       "<style scoped>\n",
       "    .dataframe tbody tr th:only-of-type {\n",
       "        vertical-align: middle;\n",
       "    }\n",
       "\n",
       "    .dataframe tbody tr th {\n",
       "        vertical-align: top;\n",
       "    }\n",
       "\n",
       "    .dataframe thead th {\n",
       "        text-align: right;\n",
       "    }\n",
       "</style>\n",
       "<table border=\"1\" class=\"dataframe\">\n",
       "  <thead>\n",
       "    <tr style=\"text-align: right;\">\n",
       "      <th></th>\n",
       "      <th>city</th>\n",
       "      <th>Car_Infrastructure_enet</th>\n",
       "      <th>Pedestrians_enet</th>\n",
       "      <th>Architecture_enet</th>\n",
       "      <th>Nature_enet</th>\n",
       "      <th>Walkability</th>\n",
       "      <th>Landmark</th>\n",
       "      <th>Architecture</th>\n",
       "      <th>Natural</th>\n",
       "      <th>Place_entropy</th>\n",
       "      <th>street_entropy</th>\n",
       "    </tr>\n",
       "  </thead>\n",
       "  <tbody>\n",
       "    <tr>\n",
       "      <th>0</th>\n",
       "      <td>Berlin</td>\n",
       "      <td>0.423378</td>\n",
       "      <td>0.096035</td>\n",
       "      <td>0.219201</td>\n",
       "      <td>0.244559</td>\n",
       "      <td>0.244141</td>\n",
       "      <td>0.026775</td>\n",
       "      <td>0.659220</td>\n",
       "      <td>0.069863</td>\n",
       "      <td>10.943270</td>\n",
       "      <td>3.430909</td>\n",
       "    </tr>\n",
       "    <tr>\n",
       "      <th>1</th>\n",
       "      <td>Chicago</td>\n",
       "      <td>0.302553</td>\n",
       "      <td>0.088358</td>\n",
       "      <td>0.152131</td>\n",
       "      <td>0.435303</td>\n",
       "      <td>0.112160</td>\n",
       "      <td>0.052598</td>\n",
       "      <td>0.711720</td>\n",
       "      <td>0.123522</td>\n",
       "      <td>9.296950</td>\n",
       "      <td>2.671477</td>\n",
       "    </tr>\n",
       "    <tr>\n",
       "      <th>2</th>\n",
       "      <td>Dusseldorf</td>\n",
       "      <td>0.319405</td>\n",
       "      <td>0.091264</td>\n",
       "      <td>0.284240</td>\n",
       "      <td>0.287618</td>\n",
       "      <td>0.328217</td>\n",
       "      <td>0.066750</td>\n",
       "      <td>0.507050</td>\n",
       "      <td>0.097983</td>\n",
       "      <td>8.629696</td>\n",
       "      <td>3.506124</td>\n",
       "    </tr>\n",
       "    <tr>\n",
       "      <th>3</th>\n",
       "      <td>Frankfurt</td>\n",
       "      <td>0.306747</td>\n",
       "      <td>0.124709</td>\n",
       "      <td>0.316827</td>\n",
       "      <td>0.197020</td>\n",
       "      <td>0.254265</td>\n",
       "      <td>0.100275</td>\n",
       "      <td>0.542619</td>\n",
       "      <td>0.102841</td>\n",
       "      <td>10.227554</td>\n",
       "      <td>3.440617</td>\n",
       "    </tr>\n",
       "    <tr>\n",
       "      <th>4</th>\n",
       "      <td>Hamburg</td>\n",
       "      <td>0.417139</td>\n",
       "      <td>0.118985</td>\n",
       "      <td>0.236723</td>\n",
       "      <td>0.183411</td>\n",
       "      <td>0.525574</td>\n",
       "      <td>0.055517</td>\n",
       "      <td>0.370925</td>\n",
       "      <td>0.047984</td>\n",
       "      <td>11.273446</td>\n",
       "      <td>2.207576</td>\n",
       "    </tr>\n",
       "    <tr>\n",
       "      <th>5</th>\n",
       "      <td>Helsinki</td>\n",
       "      <td>0.335996</td>\n",
       "      <td>0.144628</td>\n",
       "      <td>0.257337</td>\n",
       "      <td>0.096660</td>\n",
       "      <td>0.401408</td>\n",
       "      <td>0.071388</td>\n",
       "      <td>0.468998</td>\n",
       "      <td>0.058206</td>\n",
       "      <td>11.603967</td>\n",
       "      <td>3.570721</td>\n",
       "    </tr>\n",
       "    <tr>\n",
       "      <th>6</th>\n",
       "      <td>Houston</td>\n",
       "      <td>0.421484</td>\n",
       "      <td>0.064195</td>\n",
       "      <td>0.266656</td>\n",
       "      <td>0.222102</td>\n",
       "      <td>0.051555</td>\n",
       "      <td>0.187703</td>\n",
       "      <td>0.275740</td>\n",
       "      <td>0.485003</td>\n",
       "      <td>9.904891</td>\n",
       "      <td>2.864279</td>\n",
       "    </tr>\n",
       "    <tr>\n",
       "      <th>7</th>\n",
       "      <td>London</td>\n",
       "      <td>0.404137</td>\n",
       "      <td>0.131916</td>\n",
       "      <td>0.240396</td>\n",
       "      <td>0.169135</td>\n",
       "      <td>0.435397</td>\n",
       "      <td>0.103027</td>\n",
       "      <td>0.397364</td>\n",
       "      <td>0.064211</td>\n",
       "      <td>9.717657</td>\n",
       "      <td>3.559425</td>\n",
       "    </tr>\n",
       "    <tr>\n",
       "      <th>8</th>\n",
       "      <td>Los Angeles</td>\n",
       "      <td>0.304894</td>\n",
       "      <td>0.102096</td>\n",
       "      <td>0.214451</td>\n",
       "      <td>0.370784</td>\n",
       "      <td>0.075706</td>\n",
       "      <td>0.007592</td>\n",
       "      <td>0.260439</td>\n",
       "      <td>0.656263</td>\n",
       "      <td>8.462641</td>\n",
       "      <td>3.477084</td>\n",
       "    </tr>\n",
       "    <tr>\n",
       "      <th>9</th>\n",
       "      <td>Madrid</td>\n",
       "      <td>0.277816</td>\n",
       "      <td>0.102116</td>\n",
       "      <td>0.376015</td>\n",
       "      <td>0.169309</td>\n",
       "      <td>0.357968</td>\n",
       "      <td>0.036180</td>\n",
       "      <td>0.557530</td>\n",
       "      <td>0.048323</td>\n",
       "      <td>9.907733</td>\n",
       "      <td>3.502409</td>\n",
       "    </tr>\n",
       "    <tr>\n",
       "      <th>10</th>\n",
       "      <td>Manhattan</td>\n",
       "      <td>0.392038</td>\n",
       "      <td>0.101087</td>\n",
       "      <td>0.211434</td>\n",
       "      <td>0.255727</td>\n",
       "      <td>0.475353</td>\n",
       "      <td>0.043926</td>\n",
       "      <td>0.279877</td>\n",
       "      <td>0.200843</td>\n",
       "      <td>9.811876</td>\n",
       "      <td>2.849586</td>\n",
       "    </tr>\n",
       "    <tr>\n",
       "      <th>11</th>\n",
       "      <td>Moscow</td>\n",
       "      <td>0.479623</td>\n",
       "      <td>0.073732</td>\n",
       "      <td>0.236323</td>\n",
       "      <td>0.094989</td>\n",
       "      <td>0.557732</td>\n",
       "      <td>0.126613</td>\n",
       "      <td>0.287075</td>\n",
       "      <td>0.028581</td>\n",
       "      <td>11.738341</td>\n",
       "      <td>3.514086</td>\n",
       "    </tr>\n",
       "    <tr>\n",
       "      <th>12</th>\n",
       "      <td>Munich</td>\n",
       "      <td>0.400791</td>\n",
       "      <td>0.159306</td>\n",
       "      <td>0.189317</td>\n",
       "      <td>0.201580</td>\n",
       "      <td>0.318925</td>\n",
       "      <td>0.095021</td>\n",
       "      <td>0.511584</td>\n",
       "      <td>0.074470</td>\n",
       "      <td>10.179748</td>\n",
       "      <td>3.387907</td>\n",
       "    </tr>\n",
       "    <tr>\n",
       "      <th>13</th>\n",
       "      <td>New York</td>\n",
       "      <td>0.444803</td>\n",
       "      <td>0.089571</td>\n",
       "      <td>0.183380</td>\n",
       "      <td>0.251151</td>\n",
       "      <td>0.364211</td>\n",
       "      <td>0.022447</td>\n",
       "      <td>0.571135</td>\n",
       "      <td>0.042207</td>\n",
       "      <td>8.751198</td>\n",
       "      <td>1.980912</td>\n",
       "    </tr>\n",
       "    <tr>\n",
       "      <th>14</th>\n",
       "      <td>Paris</td>\n",
       "      <td>0.361864</td>\n",
       "      <td>0.172517</td>\n",
       "      <td>0.260811</td>\n",
       "      <td>0.129107</td>\n",
       "      <td>0.522679</td>\n",
       "      <td>0.135922</td>\n",
       "      <td>0.267366</td>\n",
       "      <td>0.074033</td>\n",
       "      <td>10.391994</td>\n",
       "      <td>3.179859</td>\n",
       "    </tr>\n",
       "    <tr>\n",
       "      <th>15</th>\n",
       "      <td>San Francisco</td>\n",
       "      <td>0.357904</td>\n",
       "      <td>0.156093</td>\n",
       "      <td>0.257485</td>\n",
       "      <td>0.145363</td>\n",
       "      <td>0.204874</td>\n",
       "      <td>0.024128</td>\n",
       "      <td>0.688401</td>\n",
       "      <td>0.082597</td>\n",
       "      <td>10.717198</td>\n",
       "      <td>3.246443</td>\n",
       "    </tr>\n",
       "    <tr>\n",
       "      <th>16</th>\n",
       "      <td>Stockholms kommun</td>\n",
       "      <td>0.317618</td>\n",
       "      <td>0.098182</td>\n",
       "      <td>0.314408</td>\n",
       "      <td>0.236442</td>\n",
       "      <td>0.182430</td>\n",
       "      <td>0.158151</td>\n",
       "      <td>0.383677</td>\n",
       "      <td>0.275742</td>\n",
       "      <td>10.253043</td>\n",
       "      <td>3.554829</td>\n",
       "    </tr>\n",
       "    <tr>\n",
       "      <th>17</th>\n",
       "      <td>Tokyo</td>\n",
       "      <td>0.380632</td>\n",
       "      <td>0.161571</td>\n",
       "      <td>0.312290</td>\n",
       "      <td>0.095018</td>\n",
       "      <td>0.559842</td>\n",
       "      <td>0.086248</td>\n",
       "      <td>0.326409</td>\n",
       "      <td>0.027501</td>\n",
       "      <td>11.092792</td>\n",
       "      <td>3.542566</td>\n",
       "    </tr>\n",
       "    <tr>\n",
       "      <th>18</th>\n",
       "      <td>Toronto</td>\n",
       "      <td>0.389204</td>\n",
       "      <td>0.126508</td>\n",
       "      <td>0.208626</td>\n",
       "      <td>0.200389</td>\n",
       "      <td>0.285830</td>\n",
       "      <td>0.028340</td>\n",
       "      <td>0.475709</td>\n",
       "      <td>0.210121</td>\n",
       "      <td>7.809217</td>\n",
       "      <td>3.017560</td>\n",
       "    </tr>\n",
       "    <tr>\n",
       "      <th>19</th>\n",
       "      <td>Vienna</td>\n",
       "      <td>0.362426</td>\n",
       "      <td>0.123495</td>\n",
       "      <td>0.333262</td>\n",
       "      <td>0.143170</td>\n",
       "      <td>0.457712</td>\n",
       "      <td>0.073431</td>\n",
       "      <td>0.444706</td>\n",
       "      <td>0.024151</td>\n",
       "      <td>11.162273</td>\n",
       "      <td>3.482626</td>\n",
       "    </tr>\n",
       "    <tr>\n",
       "      <th>20</th>\n",
       "      <td>Zurich</td>\n",
       "      <td>0.383221</td>\n",
       "      <td>0.135193</td>\n",
       "      <td>0.245927</td>\n",
       "      <td>0.160961</td>\n",
       "      <td>0.382134</td>\n",
       "      <td>0.077070</td>\n",
       "      <td>0.472398</td>\n",
       "      <td>0.068398</td>\n",
       "      <td>10.194133</td>\n",
       "      <td>3.454875</td>\n",
       "    </tr>\n",
       "  </tbody>\n",
       "</table>\n",
       "</div>"
      ],
      "text/plain": [
       "                 city  Car_Infrastructure_enet  Pedestrians_enet  \\\n",
       "0              Berlin                 0.423378          0.096035   \n",
       "1             Chicago                 0.302553          0.088358   \n",
       "2          Dusseldorf                 0.319405          0.091264   \n",
       "3           Frankfurt                 0.306747          0.124709   \n",
       "4             Hamburg                 0.417139          0.118985   \n",
       "5            Helsinki                 0.335996          0.144628   \n",
       "6             Houston                 0.421484          0.064195   \n",
       "7              London                 0.404137          0.131916   \n",
       "8         Los Angeles                 0.304894          0.102096   \n",
       "9              Madrid                 0.277816          0.102116   \n",
       "10          Manhattan                 0.392038          0.101087   \n",
       "11             Moscow                 0.479623          0.073732   \n",
       "12             Munich                 0.400791          0.159306   \n",
       "13           New York                 0.444803          0.089571   \n",
       "14              Paris                 0.361864          0.172517   \n",
       "15      San Francisco                 0.357904          0.156093   \n",
       "16  Stockholms kommun                 0.317618          0.098182   \n",
       "17              Tokyo                 0.380632          0.161571   \n",
       "18            Toronto                 0.389204          0.126508   \n",
       "19             Vienna                 0.362426          0.123495   \n",
       "20             Zurich                 0.383221          0.135193   \n",
       "\n",
       "    Architecture_enet  Nature_enet  Walkability  Landmark  Architecture  \\\n",
       "0            0.219201     0.244559     0.244141  0.026775      0.659220   \n",
       "1            0.152131     0.435303     0.112160  0.052598      0.711720   \n",
       "2            0.284240     0.287618     0.328217  0.066750      0.507050   \n",
       "3            0.316827     0.197020     0.254265  0.100275      0.542619   \n",
       "4            0.236723     0.183411     0.525574  0.055517      0.370925   \n",
       "5            0.257337     0.096660     0.401408  0.071388      0.468998   \n",
       "6            0.266656     0.222102     0.051555  0.187703      0.275740   \n",
       "7            0.240396     0.169135     0.435397  0.103027      0.397364   \n",
       "8            0.214451     0.370784     0.075706  0.007592      0.260439   \n",
       "9            0.376015     0.169309     0.357968  0.036180      0.557530   \n",
       "10           0.211434     0.255727     0.475353  0.043926      0.279877   \n",
       "11           0.236323     0.094989     0.557732  0.126613      0.287075   \n",
       "12           0.189317     0.201580     0.318925  0.095021      0.511584   \n",
       "13           0.183380     0.251151     0.364211  0.022447      0.571135   \n",
       "14           0.260811     0.129107     0.522679  0.135922      0.267366   \n",
       "15           0.257485     0.145363     0.204874  0.024128      0.688401   \n",
       "16           0.314408     0.236442     0.182430  0.158151      0.383677   \n",
       "17           0.312290     0.095018     0.559842  0.086248      0.326409   \n",
       "18           0.208626     0.200389     0.285830  0.028340      0.475709   \n",
       "19           0.333262     0.143170     0.457712  0.073431      0.444706   \n",
       "20           0.245927     0.160961     0.382134  0.077070      0.472398   \n",
       "\n",
       "     Natural  Place_entropy  street_entropy  \n",
       "0   0.069863      10.943270        3.430909  \n",
       "1   0.123522       9.296950        2.671477  \n",
       "2   0.097983       8.629696        3.506124  \n",
       "3   0.102841      10.227554        3.440617  \n",
       "4   0.047984      11.273446        2.207576  \n",
       "5   0.058206      11.603967        3.570721  \n",
       "6   0.485003       9.904891        2.864279  \n",
       "7   0.064211       9.717657        3.559425  \n",
       "8   0.656263       8.462641        3.477084  \n",
       "9   0.048323       9.907733        3.502409  \n",
       "10  0.200843       9.811876        2.849586  \n",
       "11  0.028581      11.738341        3.514086  \n",
       "12  0.074470      10.179748        3.387907  \n",
       "13  0.042207       8.751198        1.980912  \n",
       "14  0.074033      10.391994        3.179859  \n",
       "15  0.082597      10.717198        3.246443  \n",
       "16  0.275742      10.253043        3.554829  \n",
       "17  0.027501      11.092792        3.542566  \n",
       "18  0.210121       7.809217        3.017560  \n",
       "19  0.024151      11.162273        3.482626  \n",
       "20  0.068398      10.194133        3.454875  "
      ]
     },
     "execution_count": 378,
     "metadata": {},
     "output_type": "execute_result"
    }
   ],
   "source": [
    "city_mappilary_df"
   ]
  },
  {
   "cell_type": "code",
   "execution_count": 379,
   "metadata": {
    "ExecuteTime": {
     "end_time": "2021-05-13T13:15:22.287964Z",
     "start_time": "2021-05-13T13:15:22.261771Z"
    }
   },
   "outputs": [
    {
     "data": {
      "text/html": [
       "<div>\n",
       "<style scoped>\n",
       "    .dataframe tbody tr th:only-of-type {\n",
       "        vertical-align: middle;\n",
       "    }\n",
       "\n",
       "    .dataframe tbody tr th {\n",
       "        vertical-align: top;\n",
       "    }\n",
       "\n",
       "    .dataframe thead th {\n",
       "        text-align: right;\n",
       "    }\n",
       "</style>\n",
       "<table border=\"1\" class=\"dataframe\">\n",
       "  <thead>\n",
       "    <tr style=\"text-align: right;\">\n",
       "      <th></th>\n",
       "      <th>Car_Infrastructure_enet</th>\n",
       "      <th>Pedestrians_enet</th>\n",
       "      <th>Architecture_enet</th>\n",
       "      <th>Nature_enet</th>\n",
       "      <th>Walkability</th>\n",
       "      <th>Landmark</th>\n",
       "      <th>Architecture</th>\n",
       "      <th>Natural</th>\n",
       "      <th>Place_entropy</th>\n",
       "      <th>street_entropy</th>\n",
       "    </tr>\n",
       "  </thead>\n",
       "  <tbody>\n",
       "    <tr>\n",
       "      <th>Car_Infrastructure_enet</th>\n",
       "      <td>1.000000</td>\n",
       "      <td>-0.125050</td>\n",
       "      <td>-0.415167</td>\n",
       "      <td>-0.343454</td>\n",
       "      <td>0.390343</td>\n",
       "      <td>0.164412</td>\n",
       "      <td>-0.247091</td>\n",
       "      <td>-0.208808</td>\n",
       "      <td>0.254729</td>\n",
       "      <td>-0.348504</td>\n",
       "    </tr>\n",
       "    <tr>\n",
       "      <th>Pedestrians_enet</th>\n",
       "      <td>-0.125050</td>\n",
       "      <td>1.000000</td>\n",
       "      <td>0.116560</td>\n",
       "      <td>-0.512768</td>\n",
       "      <td>0.385474</td>\n",
       "      <td>-0.054151</td>\n",
       "      <td>0.022877</td>\n",
       "      <td>-0.375769</td>\n",
       "      <td>0.253197</td>\n",
       "      <td>0.268918</td>\n",
       "    </tr>\n",
       "    <tr>\n",
       "      <th>Architecture_enet</th>\n",
       "      <td>-0.415167</td>\n",
       "      <td>0.116560</td>\n",
       "      <td>1.000000</td>\n",
       "      <td>-0.483714</td>\n",
       "      <td>0.182420</td>\n",
       "      <td>0.291458</td>\n",
       "      <td>-0.139916</td>\n",
       "      <td>-0.140126</td>\n",
       "      <td>0.323149</td>\n",
       "      <td>0.515435</td>\n",
       "    </tr>\n",
       "    <tr>\n",
       "      <th>Nature_enet</th>\n",
       "      <td>-0.343454</td>\n",
       "      <td>-0.512768</td>\n",
       "      <td>-0.483714</td>\n",
       "      <td>1.000000</td>\n",
       "      <td>-0.672656</td>\n",
       "      <td>-0.311658</td>\n",
       "      <td>0.250465</td>\n",
       "      <td>0.522077</td>\n",
       "      <td>-0.653046</td>\n",
       "      <td>-0.324477</td>\n",
       "    </tr>\n",
       "    <tr>\n",
       "      <th>Walkability</th>\n",
       "      <td>0.390343</td>\n",
       "      <td>0.385474</td>\n",
       "      <td>0.182420</td>\n",
       "      <td>-0.672656</td>\n",
       "      <td>1.000000</td>\n",
       "      <td>0.042212</td>\n",
       "      <td>-0.332096</td>\n",
       "      <td>-0.685911</td>\n",
       "      <td>0.477248</td>\n",
       "      <td>0.019265</td>\n",
       "    </tr>\n",
       "    <tr>\n",
       "      <th>Landmark</th>\n",
       "      <td>0.164412</td>\n",
       "      <td>-0.054151</td>\n",
       "      <td>0.291458</td>\n",
       "      <td>-0.311658</td>\n",
       "      <td>0.042212</td>\n",
       "      <td>1.000000</td>\n",
       "      <td>-0.480189</td>\n",
       "      <td>0.082378</td>\n",
       "      <td>0.326140</td>\n",
       "      <td>0.222454</td>\n",
       "    </tr>\n",
       "    <tr>\n",
       "      <th>Architecture</th>\n",
       "      <td>-0.247091</td>\n",
       "      <td>0.022877</td>\n",
       "      <td>-0.139916</td>\n",
       "      <td>0.250465</td>\n",
       "      <td>-0.332096</td>\n",
       "      <td>-0.480189</td>\n",
       "      <td>1.000000</td>\n",
       "      <td>-0.413697</td>\n",
       "      <td>-0.101741</td>\n",
       "      <td>-0.096749</td>\n",
       "    </tr>\n",
       "    <tr>\n",
       "      <th>Natural</th>\n",
       "      <td>-0.208808</td>\n",
       "      <td>-0.375769</td>\n",
       "      <td>-0.140126</td>\n",
       "      <td>0.522077</td>\n",
       "      <td>-0.685911</td>\n",
       "      <td>0.082378</td>\n",
       "      <td>-0.413697</td>\n",
       "      <td>1.000000</td>\n",
       "      <td>-0.468358</td>\n",
       "      <td>-0.000035</td>\n",
       "    </tr>\n",
       "    <tr>\n",
       "      <th>Place_entropy</th>\n",
       "      <td>0.254729</td>\n",
       "      <td>0.253197</td>\n",
       "      <td>0.323149</td>\n",
       "      <td>-0.653046</td>\n",
       "      <td>0.477248</td>\n",
       "      <td>0.326140</td>\n",
       "      <td>-0.101741</td>\n",
       "      <td>-0.468358</td>\n",
       "      <td>1.000000</td>\n",
       "      <td>0.251780</td>\n",
       "    </tr>\n",
       "    <tr>\n",
       "      <th>street_entropy</th>\n",
       "      <td>-0.348504</td>\n",
       "      <td>0.268918</td>\n",
       "      <td>0.515435</td>\n",
       "      <td>-0.324477</td>\n",
       "      <td>0.019265</td>\n",
       "      <td>0.222454</td>\n",
       "      <td>-0.096749</td>\n",
       "      <td>-0.000035</td>\n",
       "      <td>0.251780</td>\n",
       "      <td>1.000000</td>\n",
       "    </tr>\n",
       "  </tbody>\n",
       "</table>\n",
       "</div>"
      ],
      "text/plain": [
       "                         Car_Infrastructure_enet  Pedestrians_enet  \\\n",
       "Car_Infrastructure_enet                 1.000000         -0.125050   \n",
       "Pedestrians_enet                       -0.125050          1.000000   \n",
       "Architecture_enet                      -0.415167          0.116560   \n",
       "Nature_enet                            -0.343454         -0.512768   \n",
       "Walkability                             0.390343          0.385474   \n",
       "Landmark                                0.164412         -0.054151   \n",
       "Architecture                           -0.247091          0.022877   \n",
       "Natural                                -0.208808         -0.375769   \n",
       "Place_entropy                           0.254729          0.253197   \n",
       "street_entropy                         -0.348504          0.268918   \n",
       "\n",
       "                         Architecture_enet  Nature_enet  Walkability  \\\n",
       "Car_Infrastructure_enet          -0.415167    -0.343454     0.390343   \n",
       "Pedestrians_enet                  0.116560    -0.512768     0.385474   \n",
       "Architecture_enet                 1.000000    -0.483714     0.182420   \n",
       "Nature_enet                      -0.483714     1.000000    -0.672656   \n",
       "Walkability                       0.182420    -0.672656     1.000000   \n",
       "Landmark                          0.291458    -0.311658     0.042212   \n",
       "Architecture                     -0.139916     0.250465    -0.332096   \n",
       "Natural                          -0.140126     0.522077    -0.685911   \n",
       "Place_entropy                     0.323149    -0.653046     0.477248   \n",
       "street_entropy                    0.515435    -0.324477     0.019265   \n",
       "\n",
       "                         Landmark  Architecture   Natural  Place_entropy  \\\n",
       "Car_Infrastructure_enet  0.164412     -0.247091 -0.208808       0.254729   \n",
       "Pedestrians_enet        -0.054151      0.022877 -0.375769       0.253197   \n",
       "Architecture_enet        0.291458     -0.139916 -0.140126       0.323149   \n",
       "Nature_enet             -0.311658      0.250465  0.522077      -0.653046   \n",
       "Walkability              0.042212     -0.332096 -0.685911       0.477248   \n",
       "Landmark                 1.000000     -0.480189  0.082378       0.326140   \n",
       "Architecture            -0.480189      1.000000 -0.413697      -0.101741   \n",
       "Natural                  0.082378     -0.413697  1.000000      -0.468358   \n",
       "Place_entropy            0.326140     -0.101741 -0.468358       1.000000   \n",
       "street_entropy           0.222454     -0.096749 -0.000035       0.251780   \n",
       "\n",
       "                         street_entropy  \n",
       "Car_Infrastructure_enet       -0.348504  \n",
       "Pedestrians_enet               0.268918  \n",
       "Architecture_enet              0.515435  \n",
       "Nature_enet                   -0.324477  \n",
       "Walkability                    0.019265  \n",
       "Landmark                       0.222454  \n",
       "Architecture                  -0.096749  \n",
       "Natural                       -0.000035  \n",
       "Place_entropy                  0.251780  \n",
       "street_entropy                 1.000000  "
      ]
     },
     "execution_count": 379,
     "metadata": {},
     "output_type": "execute_result"
    }
   ],
   "source": [
    "city_mappilary_df.corr()"
   ]
  },
  {
   "cell_type": "code",
   "execution_count": 380,
   "metadata": {
    "ExecuteTime": {
     "end_time": "2021-05-13T13:15:23.818071Z",
     "start_time": "2021-05-13T13:15:23.101601Z"
    }
   },
   "outputs": [
    {
     "data": {
      "text/plain": [
       "[Text(0, 0.5, 'Car_Infrastructure_enet'),\n",
       " Text(0, 1.5, 'Pedestrians_enet'),\n",
       " Text(0, 2.5, 'Architecture_enet'),\n",
       " Text(0, 3.5, 'Nature_enet'),\n",
       " Text(0, 4.5, 'Walkability'),\n",
       " Text(0, 5.5, 'Landmark'),\n",
       " Text(0, 6.5, 'Architecture'),\n",
       " Text(0, 7.5, 'Natural'),\n",
       " Text(0, 8.5, 'Place_entropy'),\n",
       " Text(0, 9.5, 'street_entropy')]"
      ]
     },
     "execution_count": 380,
     "metadata": {},
     "output_type": "execute_result"
    },
    {
     "data": {
      "image/png": "[encoded data removed]",
      "text/plain": [
       "<Figure size 1080x1080 with 2 Axes>"
      ]
     },
     "metadata": {
      "needs_background": "light"
     },
     "output_type": "display_data"
    }
   ],
   "source": [
    "feats = city_mappilary_df.columns\n",
    "fig, ax = plt.subplots(figsize=(15,15))         \n",
    "corr = city_mappilary_df.corr(method='pearson')\n",
    "sns.heatmap(corr, annot=True , ax=ax ,cmap='Reds' )\n",
    "ax.set_xticklabels(corr.columns, fontsize=15)\n",
    "ax.set_yticklabels(corr.columns, fontsize=15)"
   ]
  },
  {
   "cell_type": "code",
   "execution_count": 382,
   "metadata": {
    "ExecuteTime": {
     "end_time": "2021-05-13T13:19:56.519517Z",
     "start_time": "2021-05-13T13:19:56.512131Z"
    }
   },
   "outputs": [],
   "source": [
    "# city_mappilary_df.to_csv('scratchpad/city_mappilary_features_v2.csv')"
   ]
  },
  {
   "cell_type": "code",
   "execution_count": null,
   "metadata": {},
   "outputs": [],
   "source": []
  },
  {
   "cell_type": "code",
   "execution_count": null,
   "metadata": {},
   "outputs": [],
   "source": []
  }
 ],
 "metadata": {
  "kernelspec": {
   "display_name": "Python [conda env:root] *",
   "language": "python",
   "name": "conda-root-py"
  },
  "language_info": {
   "codemirror_mode": {
    "name": "ipython",
    "version": 3
   },
   "file_extension": ".py",
   "mimetype": "text/x-python",
   "name": "python",
   "nbconvert_exporter": "python",
   "pygments_lexer": "ipython3",
   "version": "3.7.0"
  }
 },
 "nbformat": 4,
 "nbformat_minor": 2
}
