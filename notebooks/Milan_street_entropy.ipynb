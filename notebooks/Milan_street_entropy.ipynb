{
 "cells": [
  {
   "cell_type": "code",
   "execution_count": 1,
   "metadata": {
    "ExecuteTime": {
     "end_time": "2021-07-09T14:08:57.829155Z",
     "start_time": "2021-07-09T14:08:48.932151Z"
    }
   },
   "outputs": [],
   "source": [
    "import datetime\n",
    "import matplotlib.pyplot as plt\n",
    "import numpy as np\n",
    "import osmnx as ox\n",
    "import pandas as pd\n",
    "%matplotlib inline\n",
    "ox.config(log_console=True)\n",
    "weight_by_length = False\n",
    "plt.style.context('seaborn-bright')\n",
    "ox.__version__\n",
    "import geopandas as gpd\n",
    "import seaborn as sns"
   ]
  },
  {
   "cell_type": "code",
   "execution_count": 3,
   "metadata": {
    "ExecuteTime": {
     "end_time": "2021-07-09T14:09:17.137955Z",
     "start_time": "2021-07-09T14:09:16.919159Z"
    }
   },
   "outputs": [],
   "source": [
    "milan_df = gpd.read_file('scratchpad/shapefile.shp')"
   ]
  },
  {
   "cell_type": "code",
   "execution_count": 4,
   "metadata": {
    "ExecuteTime": {
     "end_time": "2021-07-09T14:09:18.171503Z",
     "start_time": "2021-07-09T14:09:18.050919Z"
    }
   },
   "outputs": [
    {
     "data": {
      "text/html": [
       "<div>\n",
       "<style scoped>\n",
       "    .dataframe tbody tr th:only-of-type {\n",
       "        vertical-align: middle;\n",
       "    }\n",
       "\n",
       "    .dataframe tbody tr th {\n",
       "        vertical-align: top;\n",
       "    }\n",
       "\n",
       "    .dataframe thead th {\n",
       "        text-align: right;\n",
       "    }\n",
       "</style>\n",
       "<table border=\"1\" class=\"dataframe\">\n",
       "  <thead>\n",
       "    <tr style=\"text-align: right;\">\n",
       "      <th></th>\n",
       "      <th>latitude</th>\n",
       "      <th>longitude</th>\n",
       "      <th>placename</th>\n",
       "      <th>lat_min</th>\n",
       "      <th>lat_max</th>\n",
       "      <th>lon_min</th>\n",
       "      <th>lon_max</th>\n",
       "      <th>geometry</th>\n",
       "    </tr>\n",
       "  </thead>\n",
       "  <tbody>\n",
       "    <tr>\n",
       "      <th>0</th>\n",
       "      <td>45.44195</td>\n",
       "      <td>9.15325</td>\n",
       "      <td>197.0</td>\n",
       "      <td>45.4396</td>\n",
       "      <td>45.4443</td>\n",
       "      <td>9.1509</td>\n",
       "      <td>9.1556</td>\n",
       "      <td>POLYGON ((9.15090 45.44430, 9.15560 45.44430, ...</td>\n",
       "    </tr>\n",
       "    <tr>\n",
       "      <th>1</th>\n",
       "      <td>45.44195</td>\n",
       "      <td>9.15795</td>\n",
       "      <td>198.0</td>\n",
       "      <td>45.4396</td>\n",
       "      <td>45.4443</td>\n",
       "      <td>9.1556</td>\n",
       "      <td>9.1603</td>\n",
       "      <td>POLYGON ((9.15560 45.44430, 9.16030 45.44430, ...</td>\n",
       "    </tr>\n",
       "    <tr>\n",
       "      <th>2</th>\n",
       "      <td>45.44195</td>\n",
       "      <td>9.16735</td>\n",
       "      <td>200.0</td>\n",
       "      <td>45.4396</td>\n",
       "      <td>45.4443</td>\n",
       "      <td>9.1650</td>\n",
       "      <td>9.1697</td>\n",
       "      <td>POLYGON ((9.16500 45.44430, 9.16970 45.44430, ...</td>\n",
       "    </tr>\n",
       "    <tr>\n",
       "      <th>3</th>\n",
       "      <td>45.44195</td>\n",
       "      <td>9.17205</td>\n",
       "      <td>201.0</td>\n",
       "      <td>45.4396</td>\n",
       "      <td>45.4443</td>\n",
       "      <td>9.1697</td>\n",
       "      <td>9.1744</td>\n",
       "      <td>POLYGON ((9.16970 45.44430, 9.17440 45.44430, ...</td>\n",
       "    </tr>\n",
       "    <tr>\n",
       "      <th>4</th>\n",
       "      <td>45.44195</td>\n",
       "      <td>9.17675</td>\n",
       "      <td>202.0</td>\n",
       "      <td>45.4396</td>\n",
       "      <td>45.4443</td>\n",
       "      <td>9.1744</td>\n",
       "      <td>9.1791</td>\n",
       "      <td>POLYGON ((9.17440 45.44430, 9.17910 45.44430, ...</td>\n",
       "    </tr>\n",
       "    <tr>\n",
       "      <th>...</th>\n",
       "      <td>...</td>\n",
       "      <td>...</td>\n",
       "      <td>...</td>\n",
       "      <td>...</td>\n",
       "      <td>...</td>\n",
       "      <td>...</td>\n",
       "      <td>...</td>\n",
       "      <td>...</td>\n",
       "    </tr>\n",
       "    <tr>\n",
       "      <th>219</th>\n",
       "      <td>45.50305</td>\n",
       "      <td>9.18615</td>\n",
       "      <td>685.0</td>\n",
       "      <td>45.5007</td>\n",
       "      <td>45.5054</td>\n",
       "      <td>9.1838</td>\n",
       "      <td>9.1885</td>\n",
       "      <td>POLYGON ((9.18380 45.50540, 9.18850 45.50540, ...</td>\n",
       "    </tr>\n",
       "    <tr>\n",
       "      <th>220</th>\n",
       "      <td>45.50305</td>\n",
       "      <td>9.19085</td>\n",
       "      <td>686.0</td>\n",
       "      <td>45.5007</td>\n",
       "      <td>45.5054</td>\n",
       "      <td>9.1885</td>\n",
       "      <td>9.1932</td>\n",
       "      <td>POLYGON ((9.18850 45.50540, 9.19320 45.50540, ...</td>\n",
       "    </tr>\n",
       "    <tr>\n",
       "      <th>221</th>\n",
       "      <td>45.50305</td>\n",
       "      <td>9.19555</td>\n",
       "      <td>687.0</td>\n",
       "      <td>45.5007</td>\n",
       "      <td>45.5054</td>\n",
       "      <td>9.1932</td>\n",
       "      <td>9.1979</td>\n",
       "      <td>POLYGON ((9.19320 45.50540, 9.19790 45.50540, ...</td>\n",
       "    </tr>\n",
       "    <tr>\n",
       "      <th>222</th>\n",
       "      <td>45.50305</td>\n",
       "      <td>9.20025</td>\n",
       "      <td>688.0</td>\n",
       "      <td>45.5007</td>\n",
       "      <td>45.5054</td>\n",
       "      <td>9.1979</td>\n",
       "      <td>9.2026</td>\n",
       "      <td>POLYGON ((9.19790 45.50540, 9.20260 45.50540, ...</td>\n",
       "    </tr>\n",
       "    <tr>\n",
       "      <th>223</th>\n",
       "      <td>45.50305</td>\n",
       "      <td>9.20495</td>\n",
       "      <td>689.0</td>\n",
       "      <td>45.5007</td>\n",
       "      <td>45.5054</td>\n",
       "      <td>9.2026</td>\n",
       "      <td>9.2073</td>\n",
       "      <td>POLYGON ((9.20260 45.50540, 9.20730 45.50540, ...</td>\n",
       "    </tr>\n",
       "  </tbody>\n",
       "</table>\n",
       "<p>224 rows × 8 columns</p>\n",
       "</div>"
      ],
      "text/plain": [
       "     latitude  longitude  placename  lat_min  lat_max  lon_min  lon_max  \\\n",
       "0    45.44195    9.15325      197.0  45.4396  45.4443   9.1509   9.1556   \n",
       "1    45.44195    9.15795      198.0  45.4396  45.4443   9.1556   9.1603   \n",
       "2    45.44195    9.16735      200.0  45.4396  45.4443   9.1650   9.1697   \n",
       "3    45.44195    9.17205      201.0  45.4396  45.4443   9.1697   9.1744   \n",
       "4    45.44195    9.17675      202.0  45.4396  45.4443   9.1744   9.1791   \n",
       "..        ...        ...        ...      ...      ...      ...      ...   \n",
       "219  45.50305    9.18615      685.0  45.5007  45.5054   9.1838   9.1885   \n",
       "220  45.50305    9.19085      686.0  45.5007  45.5054   9.1885   9.1932   \n",
       "221  45.50305    9.19555      687.0  45.5007  45.5054   9.1932   9.1979   \n",
       "222  45.50305    9.20025      688.0  45.5007  45.5054   9.1979   9.2026   \n",
       "223  45.50305    9.20495      689.0  45.5007  45.5054   9.2026   9.2073   \n",
       "\n",
       "                                              geometry  \n",
       "0    POLYGON ((9.15090 45.44430, 9.15560 45.44430, ...  \n",
       "1    POLYGON ((9.15560 45.44430, 9.16030 45.44430, ...  \n",
       "2    POLYGON ((9.16500 45.44430, 9.16970 45.44430, ...  \n",
       "3    POLYGON ((9.16970 45.44430, 9.17440 45.44430, ...  \n",
       "4    POLYGON ((9.17440 45.44430, 9.17910 45.44430, ...  \n",
       "..                                                 ...  \n",
       "219  POLYGON ((9.18380 45.50540, 9.18850 45.50540, ...  \n",
       "220  POLYGON ((9.18850 45.50540, 9.19320 45.50540, ...  \n",
       "221  POLYGON ((9.19320 45.50540, 9.19790 45.50540, ...  \n",
       "222  POLYGON ((9.19790 45.50540, 9.20260 45.50540, ...  \n",
       "223  POLYGON ((9.20260 45.50540, 9.20730 45.50540, ...  \n",
       "\n",
       "[224 rows x 8 columns]"
      ]
     },
     "execution_count": 4,
     "metadata": {},
     "output_type": "execute_result"
    }
   ],
   "source": [
    "milan_df"
   ]
  },
  {
   "cell_type": "code",
   "execution_count": 5,
   "metadata": {
    "ExecuteTime": {
     "end_time": "2021-07-09T14:09:22.099950Z",
     "start_time": "2021-07-09T14:09:21.151936Z"
    }
   },
   "outputs": [],
   "source": [
    "\n",
    "G = ox.graph_from_polygon(milan_df.iloc[1]['geometry'], network_type='all')"
   ]
  },
  {
   "cell_type": "code",
   "execution_count": 6,
   "metadata": {
    "ExecuteTime": {
     "end_time": "2021-07-09T14:09:23.512747Z",
     "start_time": "2021-07-09T14:09:23.012520Z"
    }
   },
   "outputs": [
    {
     "data": {
      "image/png": "[encoded data removed]",
      "text/plain": [
       "<Figure size 1080x1080 with 1 Axes>"
      ]
     },
     "metadata": {
      "needs_background": "light"
     },
     "output_type": "display_data"
    }
   ],
   "source": [
    "fig, ax = plt.subplots(figsize=(15,15))\n",
    "ax.axis('off')\n",
    "nodes, edges = ox.graph_to_gdfs(G)\n",
    "# area.plot(ax=ax)\n",
    "nodes.plot(ax=ax, linewidth=1, edgecolor='#BC8F8F')\n",
    "edges.plot(ax=ax, alpha=0.9)\n",
    "plt.tight_layout()"
   ]
  },
  {
   "cell_type": "code",
   "execution_count": null,
   "metadata": {
    "ExecuteTime": {
     "start_time": "2021-07-09T14:10:28.275Z"
    }
   },
   "outputs": [
    {
     "name": "stderr",
     "output_type": "stream",
     "text": [
      "172it [03:21,  1.50s/it]"
     ]
    }
   ],
   "source": [
    "def reverse_bearing(x):\n",
    "    return x + 180 if x < 180 else x - 180\n",
    "\n",
    "from tqdm import tqdm\n",
    "bearings = {}\n",
    "for index,row in tqdm(milan_df.iterrows()):\n",
    "    place = row['placename']\n",
    "    G = ox.graph_from_polygon(row['geometry'], network_type='all')\n",
    "#     # calculate edge bearings\n",
    "    Gu = ox.add_edge_bearings(ox.get_undirected(G))\n",
    "    weight_by_length = True\n",
    "    if weight_by_length:\n",
    "        # weight bearings by length (meters)\n",
    "        city_bearings = []\n",
    "        for u, v, k, d in Gu.edges(keys=True, data=True):\n",
    "            city_bearings.extend([d['bearing']] * int(d['length']))\n",
    "        b = pd.Series(city_bearings)\n",
    "        bearings[place] = pd.concat([b, b.map(reverse_bearing)]).reset_index(drop='True')\n",
    "    else:\n",
    "        # don't weight bearings, just take one value per street segment\n",
    "        b = pd.Series([d['bearing'] for u, v, k, d in Gu.edges(keys=True, data=True)])\n",
    "        bearings[place] = pd.concat([b, b.map(reverse_bearing)]).reset_index(drop='True')"
   ]
  },
  {
   "cell_type": "code",
   "execution_count": 11,
   "metadata": {
    "ExecuteTime": {
     "end_time": "2021-05-17T13:34:12.632909Z",
     "start_time": "2021-05-17T13:34:12.478953Z"
    }
   },
   "outputs": [
    {
     "name": "stdout",
     "output_type": "stream",
     "text": [
      "Stored 'bearings' (dict)\n"
     ]
    }
   ],
   "source": [
    "%store bearings"
   ]
  },
  {
   "cell_type": "code",
   "execution_count": 13,
   "metadata": {
    "ExecuteTime": {
     "end_time": "2021-05-17T13:51:11.673148Z",
     "start_time": "2021-05-17T13:51:11.655848Z"
    }
   },
   "outputs": [],
   "source": [
    "def count_and_merge(n, bearings):\n",
    "    # make twice as many bins as desired, then merge them in pairs\n",
    "    # prevents bin-edge effects around common values like 0° and 90°\n",
    "    n = n * 2\n",
    "    bins = np.arange(n + 1) * 360 / n\n",
    "    count, _ = np.histogram(bearings, bins=bins)\n",
    "    \n",
    "    # move the last bin to the front, so eg 0.01° and 359.99° will be binned together\n",
    "    count = np.roll(count, 1)\n",
    "    return count[::2] + count[1::2]\n",
    "\n",
    "\n",
    "# function to draw a polar histogram for a set of edge bearings\n",
    "def polar_plot(ax, bearings, n=36, title=''):\n",
    "\n",
    "    bins = np.arange(n + 1) * 360 / n\n",
    "    count = count_and_merge(n, bearings)\n",
    "    hist , division = np.histogram(bearings, bins=bins , density = True) \n",
    "    frequency = count / count.sum()\n",
    "    division = division[0:-1]\n",
    "    width =  2 * np.pi / n\n",
    "\n",
    "    ax.set_theta_zero_location('N')\n",
    "    ax.set_theta_direction('clockwise')\n",
    "\n",
    "    x = division * np.pi / 180\n",
    "    \n",
    "    bars = ax.bar(x, height=frequency, width=width, align='center', bottom=0, zorder=2,\n",
    "                  color='#003366', edgecolor='k', linewidth=0.5, alpha=0.7)\n",
    "    \n",
    "    ax.set_ylim(top=frequency.max())\n",
    "    \n",
    "    title_font = {'family':'DejaVu Sans', 'size':24, 'weight':'bold'}\n",
    "    xtick_font = {'family':'DejaVu Sans', 'size':10, 'weight':'bold', 'alpha':1.0, 'zorder':3}\n",
    "    ytick_font = {'family':'DejaVu Sans', 'size': 9, 'weight':'bold', 'alpha':0.2, 'zorder':3}\n",
    "    \n",
    "    ax.set_title(title.upper(), y=1.05, fontdict=title_font)\n",
    "    \n",
    "    ax.set_yticks(np.linspace(0, max(ax.get_ylim()), 5))\n",
    "    yticklabels = ['{:.2f}'.format(y) for y in ax.get_yticks()]\n",
    "    yticklabels[0] = ''\n",
    "    ax.set_yticklabels(labels=yticklabels, fontdict=ytick_font)\n",
    "    \n",
    "    xticklabels = ['N', '', 'E', '', 'S', '', 'W', '']\n",
    "    ax.set_xticks(ax.get_xticks())\n",
    "    ax.set_xticklabels(labels=xticklabels, fontdict=xtick_font)\n",
    "    ax.tick_params(axis='x', which='major', pad=-2)\n",
    "    return frequency"
   ]
  },
  {
   "cell_type": "code",
   "execution_count": 14,
   "metadata": {
    "ExecuteTime": {
     "end_time": "2021-05-17T13:51:11.874719Z",
     "start_time": "2021-05-17T13:51:11.868956Z"
    }
   },
   "outputs": [],
   "source": [
    "def computeFreq(bearings, n=36):\n",
    "    bins = np.arange(n + 1) * 360 / n\n",
    "    count = count_and_merge(n, bearings)\n",
    "    hist , division = np.histogram(bearings, bins=bins , density = True) \n",
    "    frequency = count / count.sum()\n",
    "    division = division[0:-1]\n",
    "    width =  2 * np.pi / n\n",
    "    return frequency"
   ]
  },
  {
   "cell_type": "code",
   "execution_count": 15,
   "metadata": {
    "ExecuteTime": {
     "end_time": "2021-05-17T13:51:13.415148Z",
     "start_time": "2021-05-17T13:51:13.409618Z"
    }
   },
   "outputs": [
    {
     "data": {
      "text/plain": [
       "dict_keys([0, 1, 2, 3, 4, 5, 6, 7, 8, 9, 10, 11, 12, 13, 14, 15, 16, 17, 18, 19, 20, 21, 22, 23, 24, 25, 26, 27, 28, 29, 30, 31, 32, 33, 34, 35, 36, 37, 38, 39, 40, 41, 42, 43, 44, 45, 46, 47, 48, 49, 50, 51, 52, 53, 54, 55, 56, 57, 58, 59, 60, 61, 62, 63, 64, 65, 66, 67, 68, 69, 70, 71, 72, 73, 74, 75, 76, 77, 78, 79, 80, 81, 82, 83, 84, 85, 86, 87, 88, 89, 90, 91, 92, 93, 94, 95, 96, 97, 98, 99, 100, 101, 102, 103, 104, 105, 106, 107, 108, 109, 110, 111, 112, 113, 114, 115, 116, 117, 118, 119, 120, 121, 122, 123, 124, 125, 126, 127, 128, 129, 130, 131, 132, 133, 134, 135, 136, 137, 138, 139, 140, 141, 142, 143, 144, 145, 146, 147, 148, 149, 150, 151, 152, 153, 154, 155, 156, 157, 158, 159, 160, 161, 162, 163, 164, 165, 166, 167, 168, 169, 170, 171, 172, 173, 174, 175, 176, 177, 178, 179, 180, 181, 182, 183, 184, 185, 186, 187, 188, 189, 190, 191, 192, 193, 194, 195, 196, 197, 198, 199, 200, 201, 202, 203, 204, 205, 206, 207, 208, 209, 210, 211, 212, 213, 214, 215, 216, 217, 218, 219, 220, 221])"
      ]
     },
     "execution_count": 15,
     "metadata": {},
     "output_type": "execute_result"
    }
   ],
   "source": [
    "bearings.keys()"
   ]
  },
  {
   "cell_type": "code",
   "execution_count": 17,
   "metadata": {
    "ExecuteTime": {
     "end_time": "2021-05-17T13:52:39.623863Z",
     "start_time": "2021-05-17T13:52:39.357881Z"
    }
   },
   "outputs": [],
   "source": [
    "# # create figure and axes\n",
    "normed_freq = {}\n",
    "# plot each city's polar histogram\n",
    "for place in sorted(bearings.keys()):\n",
    "    normed_freq[place] = computeFreq(bearings[place].dropna())"
   ]
  },
  {
   "cell_type": "code",
   "execution_count": 19,
   "metadata": {
    "ExecuteTime": {
     "end_time": "2021-05-17T13:53:47.317483Z",
     "start_time": "2021-05-17T13:53:47.284984Z"
    }
   },
   "outputs": [],
   "source": [
    "EntropyDict = {'placename':[] , 'street_entropy':[]}\n",
    "for place in normed_freq:\n",
    "    EntropyDict['placename'].append(place)\n",
    "    entropy = -sum([float(p)*np.log(float(p)) for p in normed_freq[place] if p >0.])\n",
    "    EntropyDict['street_entropy'].append(entropy)\n",
    "\n",
    "df = pd.DataFrame.from_dict(EntropyDict)"
   ]
  },
  {
   "cell_type": "code",
   "execution_count": 23,
   "metadata": {
    "ExecuteTime": {
     "end_time": "2021-05-17T13:54:26.024940Z",
     "start_time": "2021-05-17T13:54:25.717146Z"
    }
   },
   "outputs": [
    {
     "name": "stderr",
     "output_type": "stream",
     "text": [
      "/work/sagarj/miniconda3/envs/opencv/lib/python3.8/site-packages/seaborn/distributions.py:2557: FutureWarning: `distplot` is a deprecated function and will be removed in a future version. Please adapt your code to use either `displot` (a figure-level function with similar flexibility) or `histplot` (an axes-level function for histograms).\n",
      "  warnings.warn(msg, FutureWarning)\n"
     ]
    },
    {
     "data": {
      "text/plain": [
       "<AxesSubplot:xlabel='street_entropy', ylabel='Density'>"
      ]
     },
     "execution_count": 23,
     "metadata": {},
     "output_type": "execute_result"
    },
    {
     "data": {
      "image/png": "[encoded data removed]",
      "text/plain": [
       "<Figure size 432x288 with 1 Axes>"
      ]
     },
     "metadata": {
      "needs_background": "light"
     },
     "output_type": "display_data"
    }
   ],
   "source": [
    "sns.distplot(df['street_entropy'])"
   ]
  },
  {
   "cell_type": "code",
   "execution_count": 25,
   "metadata": {
    "ExecuteTime": {
     "end_time": "2021-05-17T13:55:32.256437Z",
     "start_time": "2021-05-17T13:55:32.226020Z"
    }
   },
   "outputs": [],
   "source": [
    "df.to_csv('scratchpad/milan_FID_streetentropy.csv')"
   ]
  },
  {
   "cell_type": "code",
   "execution_count": null,
   "metadata": {},
   "outputs": [],
   "source": []
  }
 ],
 "metadata": {
  "kernelspec": {
   "display_name": "Python [conda env:opencv]",
   "language": "python",
   "name": "conda-env-opencv-py"
  },
  "language_info": {
   "codemirror_mode": {
    "name": "ipython",
    "version": 3
   },
   "file_extension": ".py",
   "mimetype": "text/x-python",
   "name": "python",
   "nbconvert_exporter": "python",
   "pygments_lexer": "ipython3",
   "version": "3.8.6"
  }
 },
 "nbformat": 4,
 "nbformat_minor": 2
}
